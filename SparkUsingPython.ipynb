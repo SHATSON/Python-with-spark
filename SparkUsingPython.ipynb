{
 "cells": [
  {
   "cell_type": "code",
   "execution_count": 1,
   "metadata": {},
   "outputs": [
    {
     "data": {
      "text/plain": [
       "198"
      ]
     },
     "execution_count": 1,
     "metadata": {},
     "output_type": "execute_result"
    }
   ],
   "source": [
    "import os\n",
    "import sys\n",
    "os.chdir(\"/home/pamba/Desktop/HomeLearning/ApacheSpark/Python\")\n",
    "os.curdir\n",
    "\n",
    "\n",
    "\n",
    "if 'SPARK_HOME' not in os.environ:\n",
    "    os.environ['SPARK_HOME'] = '/home/pamba/spark-2.4.4-bin-hadoop2.7/spark-2.4.4-bin-hadoop2.7'\n",
    "    \n",
    "\n",
    "os.environ['JAVA_HOME'] = '/home/pamba/opt/jdk1.8.0_241'\n",
    "    \n",
    "# Create a variable for our root path\n",
    "SPARK_HOME = os.environ['SPARK_HOME']\n",
    "\n",
    "\n",
    "sys.path.insert(0,os.path.join(SPARK_HOME, \"python\"))\n",
    "sys.path.insert(0,os.path.join(SPARK_HOME, \"python\",\"lib\"))\n",
    "sys.path.insert(0,os.path.join(SPARK_HOME, \"python\",\"lib\",\"pyspark.zip\"))\n",
    "sys.path.insert(0,os.path.join(SPARK_HOME, \"python\",\"lib\",\"py4j-0.10.7-src.zip\"))\n",
    "\n",
    "\n",
    "from pyspark import SparkContext\n",
    "from pyspark import SparkConf\n",
    "\n",
    "\n",
    "conf=SparkConf()\n",
    "conf.set(\"spark.executor.memory\", \"1g\")\n",
    "conf.set(\"spark.cores.max\", \"2\")\n",
    "\n",
    "conf.setAppName(\"V2 Maestros\")\n",
    "\n",
    "\n",
    "sc = SparkContext('local', conf=conf)\n",
    "\n",
    "lines=sc.textFile(\"auto-data.csv\")\n",
    "lines.count()\n",
    "\n",
    "\n"
   ]
  },
  {
   "cell_type": "code",
   "execution_count": 2,
   "metadata": {},
   "outputs": [
    {
     "name": "stdout",
     "output_type": "stream",
     "text": [
      "MAKE,FUELTYPE,ASPIRE,DOORS,BODY,DRIVE,CYLINDERS,HP,RPM,MPG-CITY,MPG-HWY,PRICE\n",
      "subaru,gas,std,two,hatchback,fwd,four,69,4900,31,36,5118\n",
      "chevrolet,gas,std,two,hatchback,fwd,three,48,5100,47,53,5151\n",
      "mazda,gas,std,two,hatchback,fwd,four,68,5000,30,31,5195\n",
      "toyota,gas,std,two,hatchback,fwd,four,62,4800,35,39,5348\n",
      "mitsubishi,gas,std,two,hatchback,fwd,four,68,5500,37,41,5389\n",
      "honda,gas,std,two,hatchback,fwd,four,60,5500,38,42,5399\n",
      "nissan,gas,std,two,sedan,fwd,four,69,5200,31,37,5499\n",
      "dodge,gas,std,two,hatchback,fwd,four,68,5500,37,41,5572\n",
      "plymouth,gas,std,two,hatchback,fwd,four,68,5500,37,41,5572\n",
      "mazda,gas,std,two,hatchback,fwd,four,68,5000,31,38,6095\n",
      "mitsubishi,gas,std,two,hatchback,fwd,four,68,5500,31,38,6189\n",
      "dodge,gas,std,four,hatchback,fwd,four,68,5500,31,38,6229\n",
      "plymouth,gas,std,four,hatchback,fwd,four,68,5500,31,38,6229\n",
      "chevrolet,gas,std,two,hatchback,fwd,four,70,5400,38,43,6295\n",
      "toyota,gas,std,two,hatchback,fwd,four,62,4800,31,38,6338\n",
      "dodge,gas,std,two,hatchback,fwd,four,68,5500,31,38,6377\n",
      "honda,gas,std,two,hatchback,fwd,four,58,4800,49,54,6479\n",
      "toyota,gas,std,four,hatchback,fwd,four,62,4800,31,38,6488\n",
      "honda,gas,std,two,hatchback,fwd,four,76,6000,30,34,6529\n",
      "chevrolet,gas,std,four,sedan,fwd,four,70,5400,38,43,6575\n",
      "nissan,gas,std,two,sedan,fwd,four,69,5200,31,37,6649\n",
      "mitsubishi,gas,std,two,hatchback,fwd,four,68,5500,31,38,6669\n",
      "dodge,gas,std,four,sedan,fwd,four,68,5500,31,38,6692\n",
      "plymouth,gas,std,four,sedan,fwd,four,68,5500,31,38,6692\n",
      "mazda,gas,std,four,sedan,fwd,four,68,5000,31,38,6695\n",
      "isuzu,gas,std,four,sedan,rwd,four,78,4800,24,29,6785\n",
      "mazda,gas,std,two,hatchback,fwd,four,68,5000,31,38,6795\n",
      "nissan,gas,std,four,sedan,fwd,four,69,5200,31,37,6849\n",
      "honda,gas,std,two,hatchback,fwd,four,76,6000,31,38,6855\n",
      "toyota,gas,std,four,wagon,fwd,four,62,4800,31,37,6918\n",
      "toyota,gas,std,four,sedan,fwd,four,70,4800,30,37,6938\n",
      "mitsubishi,gas,std,four,sedan,fwd,four,88,5000,25,32,6989\n",
      "subaru,gas,std,two,hatchback,fwd,four,73,4400,26,31,7053\n",
      "nissan,diesel,std,two,sedan,fwd,four,55,4800,45,50,7099\n",
      "subaru,gas,std,four,sedan,fwd,four,82,4800,32,37,7126\n",
      "honda,gas,std,two,hatchback,fwd,four,76,6000,30,34,7129\n",
      "toyota,gas,std,four,hatchback,fwd,four,70,4800,30,37,7198\n",
      "honda,gas,std,four,sedan,fwd,four,76,6000,30,34,7295\n",
      "honda,gas,std,four,wagon,fwd,four,76,6000,30,34,7295\n",
      "nissan,gas,std,two,sedan,fwd,four,69,5200,31,37,7299\n",
      "nissan,gas,std,four,wagon,fwd,four,69,5200,31,37,7349\n",
      "mazda,gas,std,four,sedan,fwd,four,68,5000,31,38,7395\n",
      "subaru,gas,std,four,wagon,fwd,four,82,4800,28,32,7463\n",
      "nissan,gas,std,four,sedan,fwd,four,69,5200,31,37,7499\n",
      "subaru,gas,std,two,hatchback,4wd,four,73,4400,26,31,7603\n",
      "dodge,gas,std,four,sedan,fwd,four,68,5500,31,38,7609\n",
      "plymouth,gas,std,four,sedan,fwd,four,68,5500,31,38,7609\n",
      "mitsubishi,gas,turbo,two,hatchback,fwd,four,102,5500,24,30,7689\n",
      "toyota,gas,std,four,sedan,fwd,four,70,4800,38,47,7738\n",
      "subaru,gas,std,four,sedan,fwd,four,82,4400,28,33,7775\n",
      "volkswagen,diesel,std,two,sedan,fwd,four,52,4800,37,46,7775\n",
      "toyota,diesel,std,four,hatchback,fwd,four,56,4500,38,47,7788\n",
      "nissan,gas,std,two,hatchback,fwd,four,69,5200,31,37,7799\n",
      "honda,gas,std,two,hatchback,fwd,four,86,5800,27,33,7895\n",
      "toyota,gas,std,four,wagon,4wd,four,62,4800,27,32,7898\n",
      "toyota,diesel,std,four,sedan,fwd,four,56,4500,34,36,7898\n",
      "dodge,gas,turbo,two,hatchback,fwd,four,102,5500,24,30,7957\n",
      "plymouth,gas,turbo,two,hatchback,fwd,four,102,5500,24,30,7957\n",
      "volkswagen,gas,std,two,sedan,fwd,four,85,5250,27,34,7975\n",
      "volkswagen,diesel,std,four,sedan,fwd,four,52,4800,37,46,7995\n",
      "nissan,gas,std,four,wagon,fwd,four,69,5200,31,37,7999\n",
      "subaru,gas,std,four,wagon,4wd,four,82,4800,23,29,8013\n",
      "toyota,gas,std,two,sedan,rwd,four,70,4800,29,34,8058\n",
      "mitsubishi,gas,std,four,sedan,fwd,four,88,5000,25,32,8189\n",
      "volkswagen,gas,std,four,sedan,fwd,four,85,5250,27,34,8195\n",
      "toyota,gas,std,two,hatchback,rwd,four,70,4800,29,34,8238\n",
      "nissan,gas,std,two,hardtop,fwd,four,69,5200,31,37,8249\n",
      "toyota,gas,std,four,hatchback,fwd,four,70,4800,28,34,8358\n",
      "toyota,gas,std,two,hardtop,rwd,four,116,4800,24,30,8449\n",
      "mazda,gas,std,four,sedan,fwd,four,84,4800,26,32,8495\n",
      "volkswagen,gas,std,four,sedan,fwd,four,85,5250,27,34,8495\n",
      "mitsubishi,gas,std,two,hatchback,fwd,four,88,5000,25,32,8499\n",
      "toyota,gas,std,four,wagon,4wd,four,62,4800,27,32,8778\n",
      "honda,gas,std,four,sedan,fwd,four,86,5800,27,33,8845\n",
      "mazda,gas,std,two,hatchback,fwd,four,84,4800,26,32,8845\n",
      "dodge,gas,std,four,wagon,fwd,four,88,5000,24,30,8921\n",
      "plymouth,gas,std,four,wagon,fwd,four,88,5000,24,30,8921\n",
      "toyota,gas,std,four,sedan,fwd,four,92,4200,29,34,8948\n",
      "nissan,gas,std,four,hatchback,fwd,four,97,5200,27,34,8949\n",
      "honda,gas,std,two,hatchback,fwd,four,86,5800,27,33,9095\n",
      "subaru,gas,std,four,sedan,4wd,four,82,4800,24,25,9233\n",
      "toyota,gas,std,four,sedan,fwd,four,70,4800,28,34,9258\n",
      "mitsubishi,gas,turbo,four,sedan,fwd,four,116,5500,23,30,9279\n",
      "mitsubishi,gas,std,four,sedan,fwd,four,116,5500,23,30,9279\n",
      "toyota,gas,std,two,sedan,rwd,four,112,6600,26,29,9298\n",
      "volkswagen,diesel,turbo,four,sedan,fwd,four,68,4500,37,42,9495\n",
      "toyota,gas,std,two,hatchback,rwd,four,112,6600,26,29,9538\n",
      "nissan,gas,std,four,sedan,fwd,four,97,5200,27,34,9549\n",
      "toyota,gas,std,two,hardtop,rwd,four,116,4800,24,30,9639\n",
      "mitsubishi,gas,turbo,two,hatchback,fwd,four,116,5500,23,30,9959\n",
      "subaru,gas,std,four,sedan,fwd,four,94,5200,26,32,9960\n",
      "volkswagen,gas,std,two,hatchback,fwd,four,90,5500,24,29,9980\n",
      "toyota,gas,std,four,hatchback,fwd,four,92,4200,27,32,9988\n",
      "toyota,gas,std,two,hatchback,rwd,four,116,4800,24,30,9989\n",
      "volkswagen,gas,std,four,sedan,fwd,four,100,5500,26,32,9995\n",
      "subaru,gas,std,four,wagon,fwd,four,94,5200,25,31,10198\n",
      "mazda,gas,std,four,sedan,fwd,four,84,4800,26,32,10245\n",
      "honda,gas,std,four,sedan,fwd,four,86,5800,27,33,10295\n",
      "honda,gas,std,two,sedan,fwd,four,100,5500,25,31,10345\n",
      "mazda,gas,std,two,hatchback,fwd,four,84,4800,26,32,10595\n",
      "toyota,diesel,turbo,four,sedan,fwd,four,73,4500,30,33,10698\n",
      "toyota,gas,std,four,sedan,fwd,four,92,4200,27,32,10898\n",
      "mazda,gas,std,two,hatchback,rwd,two,101,6000,17,23,10945\n",
      "isuzu,gas,std,two,hatchback,rwd,four,90,5000,24,29,11048\n",
      "toyota,gas,std,two,hardtop,rwd,four,116,4800,24,30,11199\n",
      "mazda,gas,std,four,hatchback,fwd,four,84,4800,26,32,11245\n",
      "toyota,gas,std,four,hatchback,fwd,four,92,4200,27,32,11248\n",
      "subaru,gas,turbo,four,sedan,4wd,four,111,4800,24,29,11259\n",
      "toyota,gas,std,two,hatchback,rwd,four,116,4800,24,30,11549\n",
      "volkswagen,gas,std,two,convertible,fwd,four,90,5500,24,29,11595\n",
      "subaru,gas,turbo,four,wagon,4wd,four,111,4800,23,23,11694\n",
      "mazda,gas,std,two,hatchback,rwd,two,101,6000,17,23,11845\n",
      "saab,gas,std,two,hatchback,fwd,four,110,5250,21,28,11850\n",
      "peugot,gas,std,four,sedan,rwd,four,97,5000,19,24,11900\n",
      "saab,gas,std,four,sedan,fwd,four,110,5250,21,28,12170\n",
      "volkswagen,gas,std,four,wagon,fwd,four,88,5500,25,31,12290\n",
      "peugot,gas,std,four,wagon,rwd,four,97,5000,19,24,12440\n",
      "mitsubishi,gas,turbo,two,hatchback,fwd,four,145,5000,19,24,12629\n",
      "plymouth,gas,turbo,two,hatchback,rwd,four,145,5000,19,24,12764\n",
      "volvo,gas,std,four,sedan,rwd,four,114,5400,23,28,12940\n",
      "honda,gas,std,four,sedan,fwd,four,101,5800,24,28,12945\n",
      "dodge,gas,turbo,two,hatchback,fwd,four,145,5000,19,24,12964\n",
      "peugot,diesel,turbo,four,sedan,rwd,four,95,4150,28,33,13200\n",
      "volkswagen,gas,std,four,sedan,fwd,five,110,5500,19,24,13295\n",
      "volvo,gas,std,four,wagon,rwd,four,114,5400,23,28,13415\n",
      "alfa-romero,gas,std,two,convertible,rwd,four,111,5000,21,27,13495\n",
      "nissan,gas,std,four,sedan,fwd,six,152,5200,17,22,13499\n",
      "nissan,gas,std,four,sedan,fwd,six,152,5200,19,25,13499\n",
      "mazda,gas,std,two,hatchback,rwd,two,101,6000,17,23,13645\n",
      "volkswagen,diesel,turbo,four,sedan,fwd,four,68,4500,33,38,13845\n",
      "peugot,diesel,turbo,four,wagon,rwd,four,95,4150,25,25,13860\n",
      "audi,gas,std,four,sedan,fwd,four,102,5500,24,30,13950\n",
      "nissan,gas,std,four,wagon,fwd,six,152,5200,17,22,14399\n",
      "mitsubishi,gas,turbo,two,hatchback,fwd,four,145,5000,19,24,14489\n",
      "mitsubishi,gas,turbo,two,hatchback,fwd,four,145,5000,19,24,14869\n",
      "saab,gas,std,two,hatchback,fwd,four,110,5250,21,28,15040\n",
      "audi,gas,std,two,sedan,fwd,five,110,5500,19,25,15250\n",
      "saab,gas,std,four,sedan,fwd,four,110,5250,21,28,15510\n",
      "peugot,gas,std,four,sedan,rwd,four,95,5000,19,24,15580\n",
      "mazda,gas,std,two,hatchback,rwd,two,135,6000,16,23,15645\n",
      "toyota,gas,std,four,sedan,rwd,six,156,5200,20,24,15690\n",
      "toyota,gas,std,four,wagon,rwd,six,156,5200,19,24,15750\n",
      "volvo,gas,std,four,sedan,rwd,four,114,5400,24,28,15985\n",
      "toyota,gas,std,two,hatchback,rwd,six,161,5200,19,24,15998\n",
      "bmw,gas,std,two,sedan,rwd,four,101,5800,23,29,16430\n",
      "alfa-romero,gas,std,two,convertible,rwd,four,111,5000,21,27,16500\n",
      "alfa-romero,gas,std,two,hatchback,rwd,six,154,5000,19,26,16500\n",
      "mercury,gas,turbo,two,hatchback,rwd,four,175,5000,19,24,16503\n",
      "volvo,gas,std,four,wagon,rwd,four,114,5400,24,28,16515\n",
      "toyota,gas,std,two,hatchback,rwd,six,161,5200,20,24,16558\n",
      "peugot,gas,std,four,sedan,rwd,four,97,5000,19,24,16630\n",
      "peugot,gas,std,four,wagon,rwd,four,95,5000,19,24,16695\n",
      "volvo,gas,std,four,sedan,rwd,four,114,5400,23,28,16845\n",
      "peugot,diesel,turbo,four,sedan,rwd,four,95,4150,28,33,16900\n",
      "bmw,gas,std,four,sedan,rwd,four,101,5800,23,29,16925\n",
      "peugot,diesel,turbo,four,wagon,rwd,four,95,4150,25,25,17075\n",
      "nissan,gas,std,two,hatchback,rwd,six,160,5200,19,25,17199\n",
      "audi,gas,std,four,sedan,4wd,five,115,5500,18,22,17450\n",
      "toyota,gas,std,two,convertible,rwd,four,116,4800,24,30,17669\n",
      "audi,gas,std,four,sedan,fwd,five,110,5500,19,25,17710\n",
      "peugot,diesel,turbo,four,sedan,rwd,four,95,4150,28,33,17950\n",
      "peugot,gas,turbo,four,sedan,rwd,four,142,5600,18,24,18150\n",
      "saab,gas,turbo,two,hatchback,fwd,four,160,5500,19,26,18150\n",
      "mazda,gas,std,four,sedan,rwd,four,120,5000,19,27,18280\n",
      "mazda,diesel,std,four,sedan,rwd,four,72,4200,31,39,18344\n",
      "nissan,gas,std,two,hatchback,rwd,six,160,5200,19,25,18399\n",
      "volvo,gas,turbo,four,sedan,rwd,four,162,5100,17,22,18420\n",
      "saab,gas,turbo,four,sedan,fwd,four,160,5500,19,26,18620\n",
      "audi,gas,std,four,wagon,fwd,five,110,5500,19,25,18920\n",
      "volvo,gas,turbo,four,wagon,rwd,four,162,5100,17,22,18950\n",
      "volvo,gas,turbo,four,sedan,rwd,four,160,5300,19,25,19045\n",
      "nissan,gas,turbo,two,hatchback,rwd,six,200,5200,17,23,19699\n",
      "bmw,gas,std,two,sedan,rwd,six,121,4250,21,28,20970\n",
      "bmw,gas,std,four,sedan,rwd,six,121,4250,21,28,21105\n",
      "volvo,gas,std,four,sedan,rwd,six,134,5500,18,23,21485\n",
      "porsche,gas,std,two,hatchback,rwd,four,143,5500,19,27,22018\n",
      "volvo,diesel,turbo,four,sedan,rwd,six,106,4800,26,27,22470\n",
      "volvo,gas,turbo,four,sedan,rwd,four,114,5400,19,25,22625\n",
      "audi,gas,turbo,four,sedan,fwd,five,140,5500,17,20,23875\n",
      "bmw,gas,std,four,sedan,rwd,six,121,4250,20,25,24565\n",
      "mercedes-benz,diesel,turbo,four,sedan,rwd,five,123,4350,22,25,25552\n",
      "mercedes-benz,diesel,turbo,two,hardtop,rwd,five,123,4350,22,25,28176\n",
      "mercedes-benz,diesel,turbo,four,wagon,rwd,five,123,4350,22,25,28248\n",
      "bmw,gas,std,four,sedan,rwd,six,182,5400,16,22,30760\n",
      "mercedes-benz,diesel,turbo,four,sedan,rwd,five,123,4350,22,25,31600\n",
      "jaguar,gas,std,four,sedan,rwd,six,176,4750,15,19,32250\n",
      "porsche,gas,std,two,hardtop,rwd,six,207,5900,17,25,32528\n",
      "porsche,gas,std,two,hardtop,rwd,six,207,5900,17,25,34028\n",
      "mercedes-benz,gas,std,four,sedan,rwd,eight,155,4750,16,18,34184\n",
      "mercedes-benz,gas,std,two,convertible,rwd,eight,155,4750,16,18,35056\n",
      "jaguar,gas,std,four,sedan,rwd,six,176,4750,15,19,35550\n",
      "jaguar,gas,std,two,sedan,rwd,twelve,262,5000,13,17,36000\n",
      "bmw,gas,std,four,sedan,rwd,six,182,5400,15,20,36880\n",
      "porsche,gas,std,two,convertible,rwd,six,207,5900,17,25,37028\n",
      "mercedes-benz,gas,std,four,sedan,rwd,eight,184,4500,14,16,40960\n",
      "bmw,gas,std,two,sedan,rwd,six,182,5400,16,22,41315\n",
      "mercedes-benz,gas,std,two,hardtop,rwd,eight,184,4500,14,16,45400\n"
     ]
    }
   ],
   "source": [
    "import os\n",
    "os.chdir(\"/home/pamba/Desktop/HomeLearning/ApacheSpark/Python\")\n",
    "os.curdir\n",
    "\n",
    "# Loading data from files\n",
    "\n",
    "# Load the file. Lazy initialiation\n",
    "\n",
    "autoData = sc.textFile(\"auto-data.csv\")\n",
    "autoData.cache()\n",
    "#LOads only now.\n",
    "\n",
    "\n",
    "\n",
    "for line in autoData.collect():\n",
    "    print(line)\n",
    "    \n",
    "\n",
    "\n",
    "\n"
   ]
  },
  {
   "cell_type": "code",
   "execution_count": 3,
   "metadata": {},
   "outputs": [
    {
     "data": {
      "text/plain": [
       "['MAKE,FUELTYPE,ASPIRE,DOORS,BODY,DRIVE,CYLINDERS,HP,RPM,MPG-CITY,MPG-HWY,PRICE',\n",
       " 'subaru,gas,std,two,hatchback,fwd,four,69,4900,31,36,5118',\n",
       " 'chevrolet,gas,std,two,hatchback,fwd,three,48,5100,47,53,5151',\n",
       " 'mazda,gas,std,two,hatchback,fwd,four,68,5000,30,31,5195',\n",
       " 'toyota,gas,std,two,hatchback,fwd,four,62,4800,35,39,5348']"
      ]
     },
     "execution_count": 3,
     "metadata": {},
     "output_type": "execute_result"
    }
   ],
   "source": [
    "\n",
    "autoData.take(5)"
   ]
  },
  {
   "cell_type": "code",
   "execution_count": 12,
   "metadata": {},
   "outputs": [
    {
     "data": {
      "text/plain": [
       "'MAKE,FUELTYPE,ASPIRE,DOORS,BODY,DRIVE,CYLINDERS,HP,RPM,MPG-CITY,MPG-HWY,PRICE'"
      ]
     },
     "execution_count": 12,
     "metadata": {},
     "output_type": "execute_result"
    }
   ],
   "source": [
    "\n",
    "autoData.first()"
   ]
  },
  {
   "cell_type": "code",
   "execution_count": 13,
   "metadata": {},
   "outputs": [
    {
     "data": {
      "text/plain": [
       "198"
      ]
     },
     "execution_count": 13,
     "metadata": {},
     "output_type": "execute_result"
    }
   ],
   "source": [
    "autoData.count()"
   ]
  },
  {
   "cell_type": "code",
   "execution_count": 10,
   "metadata": {},
   "outputs": [
    {
     "data": {
      "text/plain": [
       "5"
      ]
     },
     "execution_count": 10,
     "metadata": {},
     "output_type": "execute_result"
    }
   ],
   "source": [
    "# Loading Data From a Collection\n",
    "\n",
    "collData=sc.parallelize([3,5,4,7,4])\n",
    "collData.cache()\n",
    "collData.count()"
   ]
  },
  {
   "cell_type": "code",
   "execution_count": 5,
   "metadata": {},
   "outputs": [
    {
     "data": {
      "text/plain": [
       "['MAKE\\tFUELTYPE\\tASPIRE\\tDOORS\\tBODY\\tDRIVE\\tCYLINDERS\\tHP\\tRPM\\tMPG-CITY\\tMPG-HWY\\tPRICE',\n",
       " 'subaru\\tgas\\tstd\\ttwo\\thatchback\\tfwd\\tfour\\t69\\t4900\\t31\\t36\\t5118',\n",
       " 'chevrolet\\tgas\\tstd\\ttwo\\thatchback\\tfwd\\tthree\\t48\\t5100\\t47\\t53\\t5151',\n",
       " 'mazda\\tgas\\tstd\\ttwo\\thatchback\\tfwd\\tfour\\t68\\t5000\\t30\\t31\\t5195',\n",
       " 'toyota\\tgas\\tstd\\ttwo\\thatchback\\tfwd\\tfour\\t62\\t4800\\t35\\t39\\t5348']"
      ]
     },
     "execution_count": 5,
     "metadata": {},
     "output_type": "execute_result"
    }
   ],
   "source": [
    "\n",
    "#2. Transformations\n",
    "\n",
    "#2.1 Map and create a new RDD\n",
    "tsvData=autoData.map(lambda x: x.replace(\",\", \"\\t\"))\n",
    "tsvData.take(5)"
   ]
  },
  {
   "cell_type": "code",
   "execution_count": 6,
   "metadata": {},
   "outputs": [
    {
     "data": {
      "text/plain": [
       "32"
      ]
     },
     "execution_count": 6,
     "metadata": {},
     "output_type": "execute_result"
    }
   ],
   "source": [
    "#2.2 Filter and create a new RDD\n",
    "toyotaData=autoData.filter(lambda x: \"toyota\" in x)\n",
    "toyotaData.count()"
   ]
  },
  {
   "cell_type": "code",
   "execution_count": 7,
   "metadata": {},
   "outputs": [
    {
     "data": {
      "text/plain": [
       "['toyota',\n",
       " 'gas',\n",
       " 'std',\n",
       " 'two',\n",
       " 'hatchback',\n",
       " 'fwd',\n",
       " 'four',\n",
       " '62',\n",
       " '4800',\n",
       " '35',\n",
       " '39',\n",
       " '5348',\n",
       " 'toyota',\n",
       " 'gas',\n",
       " 'std',\n",
       " 'two',\n",
       " 'hatchback',\n",
       " 'fwd',\n",
       " 'four',\n",
       " '62']"
      ]
     },
     "execution_count": 7,
     "metadata": {},
     "output_type": "execute_result"
    }
   ],
   "source": [
    "#2.3 FlatMap\n",
    "words=toyotaData.flatMap(lambda line: line.split(\",\"))\n",
    "words.take(20)"
   ]
  },
  {
   "cell_type": "code",
   "execution_count": 8,
   "metadata": {},
   "outputs": [
    {
     "name": "stdout",
     "output_type": "stream",
     "text": [
      "3\n",
      "5\n",
      "4\n",
      "7\n"
     ]
    }
   ],
   "source": [
    "#2.4 Distinct\n",
    "for numbData in collData.distinct().collect():\n",
    "    print(numbData)"
   ]
  },
  {
   "cell_type": "code",
   "execution_count": 14,
   "metadata": {},
   "outputs": [
    {
     "name": "stdout",
     "output_type": "stream",
     "text": [
      "peace\n",
      "world\n",
      "universe\n",
      "hello\n",
      "war\n"
     ]
    }
   ],
   "source": [
    "#2.5 Set operations\n",
    "words1 = sc.parallelize([\"hello\",\"war\",\"peace\",\"world\"])\n",
    "words2 = sc.parallelize([\"war\",\"peace\",\"universe\"])\n",
    "\n",
    "for unions in words1.union(words2).distinct().collect():\n",
    "    print(unions)\n",
    "    \n"
   ]
  },
  {
   "cell_type": "code",
   "execution_count": 15,
   "metadata": {},
   "outputs": [
    {
     "name": "stdout",
     "output_type": "stream",
     "text": [
      "peace\n",
      "war\n"
     ]
    }
   ],
   "source": [
    "for intersects in words1.intersection(words2).collect():\n",
    "    print(intersects)"
   ]
  },
  {
   "cell_type": "code",
   "execution_count": 17,
   "metadata": {},
   "outputs": [
    {
     "data": {
      "text/plain": [
       "23"
      ]
     },
     "execution_count": 17,
     "metadata": {},
     "output_type": "execute_result"
    }
   ],
   "source": [
    "# 3. Actions\n",
    "# 3.1 reduce \n",
    "collData.reduce(lambda x,y: x+y)\n"
   ]
  },
  {
   "cell_type": "code",
   "execution_count": 19,
   "metadata": {},
   "outputs": [
    {
     "data": {
      "text/plain": [
       "'bmw,gas,std,two,sedan,rwd,six,182,5400,16,22,41315'"
      ]
     },
     "execution_count": 19,
     "metadata": {},
     "output_type": "execute_result"
    }
   ],
   "source": [
    "# 3.2 find the shortest line\n",
    "autoData.reduce(lambda x,y: x if len(x) < len(y) else y)"
   ]
  },
  {
   "cell_type": "code",
   "execution_count": 20,
   "metadata": {},
   "outputs": [
    {
     "data": {
      "text/plain": [
       "23"
      ]
     },
     "execution_count": 20,
     "metadata": {},
     "output_type": "execute_result"
    }
   ],
   "source": [
    "# 4. Aggregations\n",
    "# 4.1 Perform the same work as reduce\n",
    "seqOp = (lambda x,y: (x+y))\n",
    "combOp = (lambda x,y: (x+y))\n",
    "collData.aggregate((0), seqOp, combOp)\n",
    "\n"
   ]
  },
  {
   "cell_type": "code",
   "execution_count": 21,
   "metadata": {},
   "outputs": [
    {
     "data": {
      "text/plain": [
       "(23, 1680)"
      ]
     },
     "execution_count": 21,
     "metadata": {},
     "output_type": "execute_result"
    }
   ],
   "source": [
    "#Do addition and multiplication at the same time.\n",
    "#X now becomes a tuple for sequence\n",
    "seqOp = (lambda x,y: (x[0]+y, x[1]*y))\n",
    "#both X and Y are tuples\n",
    "combOp = (lambda x,y: (x[0]+y[0], x[1]*y[1]))\n",
    "collData.aggregate((0,1), seqOp, combOp)"
   ]
  },
  {
   "cell_type": "code",
   "execution_count": 22,
   "metadata": {},
   "outputs": [
    {
     "data": {
      "text/plain": [
       "['MAKE,FUELTYPE,ASPIRE,4,BODY,DRIVE,CYLINDERS,HP,RPM,MPG-CITY,MPG-HWY,PRICE',\n",
       " 'subaru,gas,std,2,hatchback,FWD,four,69,4900,31,36,5118',\n",
       " 'chevrolet,gas,std,2,hatchback,FWD,three,48,5100,47,53,5151',\n",
       " 'mazda,gas,std,2,hatchback,FWD,four,68,5000,30,31,5195',\n",
       " 'toyota,gas,std,2,hatchback,FWD,four,62,4800,35,39,5348',\n",
       " 'mitsubishi,gas,std,2,hatchback,FWD,four,68,5500,37,41,5389',\n",
       " 'honda,gas,std,2,hatchback,FWD,four,60,5500,38,42,5399',\n",
       " 'nissan,gas,std,2,sedan,FWD,four,69,5200,31,37,5499',\n",
       " 'dodge,gas,std,2,hatchback,FWD,four,68,5500,37,41,5572',\n",
       " 'plymouth,gas,std,2,hatchback,FWD,four,68,5500,37,41,5572',\n",
       " 'mazda,gas,std,2,hatchback,FWD,four,68,5000,31,38,6095',\n",
       " 'mitsubishi,gas,std,2,hatchback,FWD,four,68,5500,31,38,6189',\n",
       " 'dodge,gas,std,4,hatchback,FWD,four,68,5500,31,38,6229',\n",
       " 'plymouth,gas,std,4,hatchback,FWD,four,68,5500,31,38,6229',\n",
       " 'chevrolet,gas,std,2,hatchback,FWD,four,70,5400,38,43,6295',\n",
       " 'toyota,gas,std,2,hatchback,FWD,four,62,4800,31,38,6338',\n",
       " 'dodge,gas,std,2,hatchback,FWD,four,68,5500,31,38,6377',\n",
       " 'honda,gas,std,2,hatchback,FWD,four,58,4800,49,54,6479',\n",
       " 'toyota,gas,std,4,hatchback,FWD,four,62,4800,31,38,6488',\n",
       " 'honda,gas,std,2,hatchback,FWD,four,76,6000,30,34,6529',\n",
       " 'chevrolet,gas,std,4,sedan,FWD,four,70,5400,38,43,6575',\n",
       " 'nissan,gas,std,2,sedan,FWD,four,69,5200,31,37,6649',\n",
       " 'mitsubishi,gas,std,2,hatchback,FWD,four,68,5500,31,38,6669',\n",
       " 'dodge,gas,std,4,sedan,FWD,four,68,5500,31,38,6692',\n",
       " 'plymouth,gas,std,4,sedan,FWD,four,68,5500,31,38,6692',\n",
       " 'mazda,gas,std,4,sedan,FWD,four,68,5000,31,38,6695',\n",
       " 'isuzu,gas,std,4,sedan,RWD,four,78,4800,24,29,6785',\n",
       " 'mazda,gas,std,2,hatchback,FWD,four,68,5000,31,38,6795',\n",
       " 'nissan,gas,std,4,sedan,FWD,four,69,5200,31,37,6849',\n",
       " 'honda,gas,std,2,hatchback,FWD,four,76,6000,31,38,6855',\n",
       " 'toyota,gas,std,4,wagon,FWD,four,62,4800,31,37,6918',\n",
       " 'toyota,gas,std,4,sedan,FWD,four,70,4800,30,37,6938',\n",
       " 'mitsubishi,gas,std,4,sedan,FWD,four,88,5000,25,32,6989',\n",
       " 'subaru,gas,std,2,hatchback,FWD,four,73,4400,26,31,7053',\n",
       " 'nissan,diesel,std,2,sedan,FWD,four,55,4800,45,50,7099',\n",
       " 'subaru,gas,std,4,sedan,FWD,four,82,4800,32,37,7126',\n",
       " 'honda,gas,std,2,hatchback,FWD,four,76,6000,30,34,7129',\n",
       " 'toyota,gas,std,4,hatchback,FWD,four,70,4800,30,37,7198',\n",
       " 'honda,gas,std,4,sedan,FWD,four,76,6000,30,34,7295',\n",
       " 'honda,gas,std,4,wagon,FWD,four,76,6000,30,34,7295',\n",
       " 'nissan,gas,std,2,sedan,FWD,four,69,5200,31,37,7299',\n",
       " 'nissan,gas,std,4,wagon,FWD,four,69,5200,31,37,7349',\n",
       " 'mazda,gas,std,4,sedan,FWD,four,68,5000,31,38,7395',\n",
       " 'subaru,gas,std,4,wagon,FWD,four,82,4800,28,32,7463',\n",
       " 'nissan,gas,std,4,sedan,FWD,four,69,5200,31,37,7499',\n",
       " 'subaru,gas,std,2,hatchback,4WD,four,73,4400,26,31,7603',\n",
       " 'dodge,gas,std,4,sedan,FWD,four,68,5500,31,38,7609',\n",
       " 'plymouth,gas,std,4,sedan,FWD,four,68,5500,31,38,7609',\n",
       " 'mitsubishi,gas,turbo,2,hatchback,FWD,four,102,5500,24,30,7689',\n",
       " 'toyota,gas,std,4,sedan,FWD,four,70,4800,38,47,7738',\n",
       " 'subaru,gas,std,4,sedan,FWD,four,82,4400,28,33,7775',\n",
       " 'volkswagen,diesel,std,2,sedan,FWD,four,52,4800,37,46,7775',\n",
       " 'toyota,diesel,std,4,hatchback,FWD,four,56,4500,38,47,7788',\n",
       " 'nissan,gas,std,2,hatchback,FWD,four,69,5200,31,37,7799',\n",
       " 'honda,gas,std,2,hatchback,FWD,four,86,5800,27,33,7895',\n",
       " 'toyota,gas,std,4,wagon,4WD,four,62,4800,27,32,7898',\n",
       " 'toyota,diesel,std,4,sedan,FWD,four,56,4500,34,36,7898',\n",
       " 'dodge,gas,turbo,2,hatchback,FWD,four,102,5500,24,30,7957',\n",
       " 'plymouth,gas,turbo,2,hatchback,FWD,four,102,5500,24,30,7957',\n",
       " 'volkswagen,gas,std,2,sedan,FWD,four,85,5250,27,34,7975',\n",
       " 'volkswagen,diesel,std,4,sedan,FWD,four,52,4800,37,46,7995',\n",
       " 'nissan,gas,std,4,wagon,FWD,four,69,5200,31,37,7999',\n",
       " 'subaru,gas,std,4,wagon,4WD,four,82,4800,23,29,8013',\n",
       " 'toyota,gas,std,2,sedan,RWD,four,70,4800,29,34,8058',\n",
       " 'mitsubishi,gas,std,4,sedan,FWD,four,88,5000,25,32,8189',\n",
       " 'volkswagen,gas,std,4,sedan,FWD,four,85,5250,27,34,8195',\n",
       " 'toyota,gas,std,2,hatchback,RWD,four,70,4800,29,34,8238',\n",
       " 'nissan,gas,std,2,hardtop,FWD,four,69,5200,31,37,8249',\n",
       " 'toyota,gas,std,4,hatchback,FWD,four,70,4800,28,34,8358',\n",
       " 'toyota,gas,std,2,hardtop,RWD,four,116,4800,24,30,8449',\n",
       " 'mazda,gas,std,4,sedan,FWD,four,84,4800,26,32,8495',\n",
       " 'volkswagen,gas,std,4,sedan,FWD,four,85,5250,27,34,8495',\n",
       " 'mitsubishi,gas,std,2,hatchback,FWD,four,88,5000,25,32,8499',\n",
       " 'toyota,gas,std,4,wagon,4WD,four,62,4800,27,32,8778',\n",
       " 'honda,gas,std,4,sedan,FWD,four,86,5800,27,33,8845',\n",
       " 'mazda,gas,std,2,hatchback,FWD,four,84,4800,26,32,8845',\n",
       " 'dodge,gas,std,4,wagon,FWD,four,88,5000,24,30,8921',\n",
       " 'plymouth,gas,std,4,wagon,FWD,four,88,5000,24,30,8921',\n",
       " 'toyota,gas,std,4,sedan,FWD,four,92,4200,29,34,8948',\n",
       " 'nissan,gas,std,4,hatchback,FWD,four,97,5200,27,34,8949',\n",
       " 'honda,gas,std,2,hatchback,FWD,four,86,5800,27,33,9095',\n",
       " 'subaru,gas,std,4,sedan,4WD,four,82,4800,24,25,9233',\n",
       " 'toyota,gas,std,4,sedan,FWD,four,70,4800,28,34,9258',\n",
       " 'mitsubishi,gas,turbo,4,sedan,FWD,four,116,5500,23,30,9279',\n",
       " 'mitsubishi,gas,std,4,sedan,FWD,four,116,5500,23,30,9279',\n",
       " 'toyota,gas,std,2,sedan,RWD,four,112,6600,26,29,9298',\n",
       " 'volkswagen,diesel,turbo,4,sedan,FWD,four,68,4500,37,42,9495',\n",
       " 'toyota,gas,std,2,hatchback,RWD,four,112,6600,26,29,9538',\n",
       " 'nissan,gas,std,4,sedan,FWD,four,97,5200,27,34,9549',\n",
       " 'toyota,gas,std,2,hardtop,RWD,four,116,4800,24,30,9639',\n",
       " 'mitsubishi,gas,turbo,2,hatchback,FWD,four,116,5500,23,30,9959',\n",
       " 'subaru,gas,std,4,sedan,FWD,four,94,5200,26,32,9960',\n",
       " 'volkswagen,gas,std,2,hatchback,FWD,four,90,5500,24,29,9980',\n",
       " 'toyota,gas,std,4,hatchback,FWD,four,92,4200,27,32,9988',\n",
       " 'toyota,gas,std,2,hatchback,RWD,four,116,4800,24,30,9989',\n",
       " 'volkswagen,gas,std,4,sedan,FWD,four,100,5500,26,32,9995',\n",
       " 'subaru,gas,std,4,wagon,FWD,four,94,5200,25,31,10198',\n",
       " 'mazda,gas,std,4,sedan,FWD,four,84,4800,26,32,10245',\n",
       " 'honda,gas,std,4,sedan,FWD,four,86,5800,27,33,10295',\n",
       " 'honda,gas,std,2,sedan,FWD,four,100,5500,25,31,10345',\n",
       " 'mazda,gas,std,2,hatchback,FWD,four,84,4800,26,32,10595',\n",
       " 'toyota,diesel,turbo,4,sedan,FWD,four,73,4500,30,33,10698',\n",
       " 'toyota,gas,std,4,sedan,FWD,four,92,4200,27,32,10898',\n",
       " 'mazda,gas,std,2,hatchback,RWD,two,101,6000,17,23,10945',\n",
       " 'isuzu,gas,std,2,hatchback,RWD,four,90,5000,24,29,11048',\n",
       " 'toyota,gas,std,2,hardtop,RWD,four,116,4800,24,30,11199',\n",
       " 'mazda,gas,std,4,hatchback,FWD,four,84,4800,26,32,11245',\n",
       " 'toyota,gas,std,4,hatchback,FWD,four,92,4200,27,32,11248',\n",
       " 'subaru,gas,turbo,4,sedan,4WD,four,111,4800,24,29,11259',\n",
       " 'toyota,gas,std,2,hatchback,RWD,four,116,4800,24,30,11549',\n",
       " 'volkswagen,gas,std,2,convertible,FWD,four,90,5500,24,29,11595',\n",
       " 'subaru,gas,turbo,4,wagon,4WD,four,111,4800,23,23,11694',\n",
       " 'mazda,gas,std,2,hatchback,RWD,two,101,6000,17,23,11845',\n",
       " 'saab,gas,std,2,hatchback,FWD,four,110,5250,21,28,11850',\n",
       " 'peugot,gas,std,4,sedan,RWD,four,97,5000,19,24,11900',\n",
       " 'saab,gas,std,4,sedan,FWD,four,110,5250,21,28,12170',\n",
       " 'volkswagen,gas,std,4,wagon,FWD,four,88,5500,25,31,12290',\n",
       " 'peugot,gas,std,4,wagon,RWD,four,97,5000,19,24,12440',\n",
       " 'mitsubishi,gas,turbo,2,hatchback,FWD,four,145,5000,19,24,12629',\n",
       " 'plymouth,gas,turbo,2,hatchback,RWD,four,145,5000,19,24,12764',\n",
       " 'volvo,gas,std,4,sedan,RWD,four,114,5400,23,28,12940',\n",
       " 'honda,gas,std,4,sedan,FWD,four,101,5800,24,28,12945',\n",
       " 'dodge,gas,turbo,2,hatchback,FWD,four,145,5000,19,24,12964',\n",
       " 'peugot,diesel,turbo,4,sedan,RWD,four,95,4150,28,33,13200',\n",
       " 'volkswagen,gas,std,4,sedan,FWD,five,110,5500,19,24,13295',\n",
       " 'volvo,gas,std,4,wagon,RWD,four,114,5400,23,28,13415',\n",
       " 'alfa-romero,gas,std,2,convertible,RWD,four,111,5000,21,27,13495',\n",
       " 'nissan,gas,std,4,sedan,FWD,six,152,5200,17,22,13499',\n",
       " 'nissan,gas,std,4,sedan,FWD,six,152,5200,19,25,13499',\n",
       " 'mazda,gas,std,2,hatchback,RWD,two,101,6000,17,23,13645',\n",
       " 'volkswagen,diesel,turbo,4,sedan,FWD,four,68,4500,33,38,13845',\n",
       " 'peugot,diesel,turbo,4,wagon,RWD,four,95,4150,25,25,13860',\n",
       " 'audi,gas,std,4,sedan,FWD,four,102,5500,24,30,13950',\n",
       " 'nissan,gas,std,4,wagon,FWD,six,152,5200,17,22,14399',\n",
       " 'mitsubishi,gas,turbo,2,hatchback,FWD,four,145,5000,19,24,14489',\n",
       " 'mitsubishi,gas,turbo,2,hatchback,FWD,four,145,5000,19,24,14869',\n",
       " 'saab,gas,std,2,hatchback,FWD,four,110,5250,21,28,15040',\n",
       " 'audi,gas,std,2,sedan,FWD,five,110,5500,19,25,15250',\n",
       " 'saab,gas,std,4,sedan,FWD,four,110,5250,21,28,15510',\n",
       " 'peugot,gas,std,4,sedan,RWD,four,95,5000,19,24,15580',\n",
       " 'mazda,gas,std,2,hatchback,RWD,two,135,6000,16,23,15645',\n",
       " 'toyota,gas,std,4,sedan,RWD,six,156,5200,20,24,15690',\n",
       " 'toyota,gas,std,4,wagon,RWD,six,156,5200,19,24,15750',\n",
       " 'volvo,gas,std,4,sedan,RWD,four,114,5400,24,28,15985',\n",
       " 'toyota,gas,std,2,hatchback,RWD,six,161,5200,19,24,15998',\n",
       " 'bmw,gas,std,2,sedan,RWD,four,101,5800,23,29,16430',\n",
       " 'alfa-romero,gas,std,2,convertible,RWD,four,111,5000,21,27,16500',\n",
       " 'alfa-romero,gas,std,2,hatchback,RWD,six,154,5000,19,26,16500',\n",
       " 'mercury,gas,turbo,2,hatchback,RWD,four,175,5000,19,24,16503',\n",
       " 'volvo,gas,std,4,wagon,RWD,four,114,5400,24,28,16515',\n",
       " 'toyota,gas,std,2,hatchback,RWD,six,161,5200,20,24,16558',\n",
       " 'peugot,gas,std,4,sedan,RWD,four,97,5000,19,24,16630',\n",
       " 'peugot,gas,std,4,wagon,RWD,four,95,5000,19,24,16695',\n",
       " 'volvo,gas,std,4,sedan,RWD,four,114,5400,23,28,16845',\n",
       " 'peugot,diesel,turbo,4,sedan,RWD,four,95,4150,28,33,16900',\n",
       " 'bmw,gas,std,4,sedan,RWD,four,101,5800,23,29,16925',\n",
       " 'peugot,diesel,turbo,4,wagon,RWD,four,95,4150,25,25,17075',\n",
       " 'nissan,gas,std,2,hatchback,RWD,six,160,5200,19,25,17199',\n",
       " 'audi,gas,std,4,sedan,4WD,five,115,5500,18,22,17450',\n",
       " 'toyota,gas,std,2,convertible,RWD,four,116,4800,24,30,17669',\n",
       " 'audi,gas,std,4,sedan,FWD,five,110,5500,19,25,17710',\n",
       " 'peugot,diesel,turbo,4,sedan,RWD,four,95,4150,28,33,17950',\n",
       " 'peugot,gas,turbo,4,sedan,RWD,four,142,5600,18,24,18150',\n",
       " 'saab,gas,turbo,2,hatchback,FWD,four,160,5500,19,26,18150',\n",
       " 'mazda,gas,std,4,sedan,RWD,four,120,5000,19,27,18280',\n",
       " 'mazda,diesel,std,4,sedan,RWD,four,72,4200,31,39,18344',\n",
       " 'nissan,gas,std,2,hatchback,RWD,six,160,5200,19,25,18399',\n",
       " 'volvo,gas,turbo,4,sedan,RWD,four,162,5100,17,22,18420',\n",
       " 'saab,gas,turbo,4,sedan,FWD,four,160,5500,19,26,18620',\n",
       " 'audi,gas,std,4,wagon,FWD,five,110,5500,19,25,18920',\n",
       " 'volvo,gas,turbo,4,wagon,RWD,four,162,5100,17,22,18950',\n",
       " 'volvo,gas,turbo,4,sedan,RWD,four,160,5300,19,25,19045',\n",
       " 'nissan,gas,turbo,2,hatchback,RWD,six,200,5200,17,23,19699',\n",
       " 'bmw,gas,std,2,sedan,RWD,six,121,4250,21,28,20970',\n",
       " 'bmw,gas,std,4,sedan,RWD,six,121,4250,21,28,21105',\n",
       " 'volvo,gas,std,4,sedan,RWD,six,134,5500,18,23,21485',\n",
       " 'porsche,gas,std,2,hatchback,RWD,four,143,5500,19,27,22018',\n",
       " 'volvo,diesel,turbo,4,sedan,RWD,six,106,4800,26,27,22470',\n",
       " 'volvo,gas,turbo,4,sedan,RWD,four,114,5400,19,25,22625',\n",
       " 'audi,gas,turbo,4,sedan,FWD,five,140,5500,17,20,23875',\n",
       " 'bmw,gas,std,4,sedan,RWD,six,121,4250,20,25,24565',\n",
       " 'mercedes-benz,diesel,turbo,4,sedan,RWD,five,123,4350,22,25,25552',\n",
       " 'mercedes-benz,diesel,turbo,2,hardtop,RWD,five,123,4350,22,25,28176',\n",
       " 'mercedes-benz,diesel,turbo,4,wagon,RWD,five,123,4350,22,25,28248',\n",
       " 'bmw,gas,std,4,sedan,RWD,six,182,5400,16,22,30760',\n",
       " 'mercedes-benz,diesel,turbo,4,sedan,RWD,five,123,4350,22,25,31600',\n",
       " 'jaguar,gas,std,4,sedan,RWD,six,176,4750,15,19,32250',\n",
       " 'porsche,gas,std,2,hardtop,RWD,six,207,5900,17,25,32528',\n",
       " 'porsche,gas,std,2,hardtop,RWD,six,207,5900,17,25,34028',\n",
       " 'mercedes-benz,gas,std,4,sedan,RWD,eight,155,4750,16,18,34184',\n",
       " 'mercedes-benz,gas,std,2,convertible,RWD,eight,155,4750,16,18,35056',\n",
       " 'jaguar,gas,std,4,sedan,RWD,six,176,4750,15,19,35550',\n",
       " 'jaguar,gas,std,2,sedan,RWD,twelve,262,5000,13,17,36000',\n",
       " 'bmw,gas,std,4,sedan,RWD,six,182,5400,15,20,36880',\n",
       " 'porsche,gas,std,2,convertible,RWD,six,207,5900,17,25,37028',\n",
       " 'mercedes-benz,gas,std,4,sedan,RWD,eight,184,4500,14,16,40960',\n",
       " 'bmw,gas,std,2,sedan,RWD,six,182,5400,16,22,41315',\n",
       " 'mercedes-benz,gas,std,2,hardtop,RWD,eight,184,4500,14,16,45400']"
      ]
     },
     "execution_count": 22,
     "metadata": {},
     "output_type": "execute_result"
    }
   ],
   "source": [
    "# 5 Functions in spark\n",
    "\n",
    "# 5.1 cleanse and transform an RDD\n",
    "def cleanseRDD(autoStr):\n",
    "    if isinstance(autoStr, int):\n",
    "        return autoStr\n",
    "    attList=autoStr.split(\",\")\n",
    "    # convert doors to a number\n",
    "    if attList[3] == \"two\" :\n",
    "        attList[3]=\"2\"\n",
    "    else:\n",
    "        attList[3]=\"4\"\n",
    "    # Convert Drive to uppercase\n",
    "    attList[5] = attList[5].upper()\n",
    "    return \",\".join(attList)\n",
    "\n",
    "cleanedData=autoData.map(cleanseRDD)\n",
    "cleanedData.collect()"
   ]
  },
  {
   "cell_type": "code",
   "execution_count": 23,
   "metadata": {},
   "outputs": [
    {
     "data": {
      "text/plain": [
       "25.15228426395939"
      ]
     },
     "execution_count": 23,
     "metadata": {},
     "output_type": "execute_result"
    }
   ],
   "source": [
    "def getMPG(autoStr):\n",
    "    if isinstance(autoStr, int):\n",
    "        return autoStr\n",
    "    attList=autoStr.split(\",\")\n",
    "    if attList[9].isdigit():\n",
    "        return int(attList[9])\n",
    "    else:\n",
    "        return 0\n",
    "    \n",
    "# 5.2 find average MPG-City for all cars\n",
    "autoData.reduce(lambda x,y: getMPG(x) + getMPG(y)) \\\n",
    "    / (autoData.count()-1)\n",
    "\n"
   ]
  },
  {
   "cell_type": "code",
   "execution_count": 24,
   "metadata": {},
   "outputs": [
    {
     "data": {
      "text/plain": [
       "['MAKE',\n",
       " 'subaru',\n",
       " 'chevrolet',\n",
       " 'mazda',\n",
       " 'toyota',\n",
       " 'mitsubishi',\n",
       " 'honda',\n",
       " 'nissan',\n",
       " 'dodge',\n",
       " 'plymouth',\n",
       " 'mazda',\n",
       " 'mitsubishi',\n",
       " 'dodge',\n",
       " 'plymouth',\n",
       " 'chevrolet',\n",
       " 'toyota',\n",
       " 'dodge',\n",
       " 'honda',\n",
       " 'toyota',\n",
       " 'honda',\n",
       " 'chevrolet',\n",
       " 'nissan',\n",
       " 'mitsubishi',\n",
       " 'dodge',\n",
       " 'plymouth',\n",
       " 'mazda',\n",
       " 'isuzu',\n",
       " 'mazda',\n",
       " 'nissan',\n",
       " 'honda',\n",
       " 'toyota',\n",
       " 'toyota',\n",
       " 'mitsubishi',\n",
       " 'subaru',\n",
       " 'nissan',\n",
       " 'subaru',\n",
       " 'honda',\n",
       " 'toyota',\n",
       " 'honda',\n",
       " 'honda',\n",
       " 'nissan',\n",
       " 'nissan',\n",
       " 'mazda',\n",
       " 'subaru',\n",
       " 'nissan',\n",
       " 'subaru',\n",
       " 'dodge',\n",
       " 'plymouth',\n",
       " 'mitsubishi',\n",
       " 'toyota',\n",
       " 'subaru',\n",
       " 'volkswagen',\n",
       " 'toyota',\n",
       " 'nissan',\n",
       " 'honda',\n",
       " 'toyota',\n",
       " 'toyota',\n",
       " 'dodge',\n",
       " 'plymouth',\n",
       " 'volkswagen',\n",
       " 'volkswagen',\n",
       " 'nissan',\n",
       " 'subaru',\n",
       " 'toyota',\n",
       " 'mitsubishi',\n",
       " 'volkswagen',\n",
       " 'toyota',\n",
       " 'nissan',\n",
       " 'toyota',\n",
       " 'toyota',\n",
       " 'mazda',\n",
       " 'volkswagen',\n",
       " 'mitsubishi',\n",
       " 'toyota',\n",
       " 'honda',\n",
       " 'mazda',\n",
       " 'dodge',\n",
       " 'plymouth',\n",
       " 'toyota',\n",
       " 'nissan',\n",
       " 'honda',\n",
       " 'subaru',\n",
       " 'toyota',\n",
       " 'mitsubishi',\n",
       " 'mitsubishi',\n",
       " 'toyota',\n",
       " 'volkswagen',\n",
       " 'toyota',\n",
       " 'nissan',\n",
       " 'toyota',\n",
       " 'mitsubishi',\n",
       " 'subaru',\n",
       " 'volkswagen',\n",
       " 'toyota',\n",
       " 'toyota',\n",
       " 'volkswagen',\n",
       " 'subaru',\n",
       " 'mazda',\n",
       " 'honda',\n",
       " 'honda',\n",
       " 'mazda',\n",
       " 'toyota',\n",
       " 'toyota',\n",
       " 'mazda',\n",
       " 'isuzu',\n",
       " 'toyota',\n",
       " 'mazda',\n",
       " 'toyota',\n",
       " 'subaru',\n",
       " 'toyota',\n",
       " 'volkswagen',\n",
       " 'subaru',\n",
       " 'mazda',\n",
       " 'saab',\n",
       " 'peugot',\n",
       " 'saab',\n",
       " 'volkswagen',\n",
       " 'peugot',\n",
       " 'mitsubishi',\n",
       " 'plymouth',\n",
       " 'volvo',\n",
       " 'honda',\n",
       " 'dodge',\n",
       " 'peugot',\n",
       " 'volkswagen',\n",
       " 'volvo',\n",
       " 'alfa-romero',\n",
       " 'nissan',\n",
       " 'nissan',\n",
       " 'mazda',\n",
       " 'volkswagen',\n",
       " 'peugot',\n",
       " 'audi',\n",
       " 'nissan',\n",
       " 'mitsubishi',\n",
       " 'mitsubishi',\n",
       " 'saab',\n",
       " 'audi',\n",
       " 'saab',\n",
       " 'peugot',\n",
       " 'mazda',\n",
       " 'toyota',\n",
       " 'toyota',\n",
       " 'volvo',\n",
       " 'toyota',\n",
       " 'bmw',\n",
       " 'alfa-romero',\n",
       " 'alfa-romero',\n",
       " 'mercury',\n",
       " 'volvo',\n",
       " 'toyota',\n",
       " 'peugot',\n",
       " 'peugot',\n",
       " 'volvo',\n",
       " 'peugot',\n",
       " 'bmw',\n",
       " 'peugot',\n",
       " 'nissan',\n",
       " 'audi',\n",
       " 'toyota',\n",
       " 'audi',\n",
       " 'peugot',\n",
       " 'peugot',\n",
       " 'saab',\n",
       " 'mazda',\n",
       " 'mazda',\n",
       " 'nissan',\n",
       " 'volvo',\n",
       " 'saab',\n",
       " 'audi',\n",
       " 'volvo',\n",
       " 'volvo',\n",
       " 'nissan',\n",
       " 'bmw',\n",
       " 'bmw',\n",
       " 'volvo',\n",
       " 'porsche',\n",
       " 'volvo',\n",
       " 'volvo',\n",
       " 'audi',\n",
       " 'bmw',\n",
       " 'mercedes-benz',\n",
       " 'mercedes-benz',\n",
       " 'mercedes-benz',\n",
       " 'bmw',\n",
       " 'mercedes-benz',\n",
       " 'jaguar',\n",
       " 'porsche',\n",
       " 'porsche',\n",
       " 'mercedes-benz',\n",
       " 'mercedes-benz',\n",
       " 'jaguar',\n",
       " 'jaguar',\n",
       " 'bmw',\n",
       " 'porsche',\n",
       " 'mercedes-benz',\n",
       " 'bmw',\n",
       " 'mercedes-benz']"
      ]
     },
     "execution_count": 24,
     "metadata": {},
     "output_type": "execute_result"
    }
   ],
   "source": [
    "# 6. Working with key/value RDDs\n",
    "\n",
    "# 6.1 Create a KV RDD of auto Brand and Horsepower\n",
    "cylData = autoData.map(lambda x: (x.split(\",\")[0], \\\n",
    "                                 x.split(\",\")[7]))\n",
    "\n",
    "cylData.keys().collect()"
   ]
  },
  {
   "cell_type": "code",
   "execution_count": 25,
   "metadata": {},
   "outputs": [
    {
     "data": {
      "text/plain": [
       "[('MAKE', 'HP'),\n",
       " ('subaru', '69'),\n",
       " ('chevrolet', '48'),\n",
       " ('mazda', '68'),\n",
       " ('toyota', '62')]"
      ]
     },
     "execution_count": 25,
     "metadata": {},
     "output_type": "execute_result"
    }
   ],
   "source": [
    "cylData.take(5)"
   ]
  },
  {
   "cell_type": "code",
   "execution_count": 27,
   "metadata": {},
   "outputs": [],
   "source": [
    "# Remove header row\n",
    "header = cylData.first()\n",
    "cylHPData = cylData.filter(lambda line: line != header)"
   ]
  },
  {
   "cell_type": "code",
   "execution_count": 28,
   "metadata": {},
   "outputs": [
    {
     "data": {
      "text/plain": [
       "[('subaru', (1035, 12)),\n",
       " ('chevrolet', (188, 3)),\n",
       " ('mazda', (1390, 16)),\n",
       " ('toyota', (2969, 32)),\n",
       " ('mitsubishi', (1353, 13)),\n",
       " ('honda', (1043, 13)),\n",
       " ('nissan', (1846, 18)),\n",
       " ('dodge', (675, 8)),\n",
       " ('plymouth', (607, 7)),\n",
       " ('isuzu', (168, 2)),\n",
       " ('volkswagen', (973, 12)),\n",
       " ('saab', (760, 6)),\n",
       " ('peugot', (1098, 11)),\n",
       " ('volvo', (1408, 11)),\n",
       " ('alfa-romero', (376, 3)),\n",
       " ('audi', (687, 6)),\n",
       " ('bmw', (1111, 8)),\n",
       " ('mercury', ('175', 1)),\n",
       " ('porsche', (764, 4)),\n",
       " ('mercedes-benz', (1170, 8)),\n",
       " ('jaguar', (614, 3))]"
      ]
     },
     "execution_count": 28,
     "metadata": {},
     "output_type": "execute_result"
    }
   ],
   "source": [
    "# Add a count 1 to each record and then reduce to find totals\n",
    "brandValues = cylHPData.mapValues(lambda x: (x, 1)) \\\n",
    "    .reduceByKey(lambda x,y: (int(x[0]) + int(y[0]), \\\n",
    "                             x[1] + y[1]))\n",
    "brandValues.collect()"
   ]
  },
  {
   "cell_type": "code",
   "execution_count": 29,
   "metadata": {},
   "outputs": [
    {
     "data": {
      "text/plain": [
       "[('subaru', 86.25),\n",
       " ('chevrolet', 62.666666666666664),\n",
       " ('mazda', 86.875),\n",
       " ('toyota', 92.78125),\n",
       " ('mitsubishi', 104.07692307692308),\n",
       " ('honda', 80.23076923076923),\n",
       " ('nissan', 102.55555555555556),\n",
       " ('dodge', 84.375),\n",
       " ('plymouth', 86.71428571428571),\n",
       " ('isuzu', 84.0),\n",
       " ('volkswagen', 81.08333333333333),\n",
       " ('saab', 126.66666666666667),\n",
       " ('peugot', 99.81818181818181),\n",
       " ('volvo', 128.0),\n",
       " ('alfa-romero', 125.33333333333333),\n",
       " ('audi', 114.5),\n",
       " ('bmw', 138.875),\n",
       " ('mercury', 175.0),\n",
       " ('porsche', 191.0),\n",
       " ('mercedes-benz', 146.25),\n",
       " ('jaguar', 204.66666666666666)]"
      ]
     },
     "execution_count": 29,
     "metadata": {},
     "output_type": "execute_result"
    }
   ],
   "source": [
    "# Find average by dividing HP total by count total\n",
    "brandValues.mapValues(lambda x: int(x[0])/int(x[1])).\\\n",
    "     collect()"
   ]
  },
  {
   "cell_type": "code",
   "execution_count": 30,
   "metadata": {},
   "outputs": [
    {
     "data": {
      "text/plain": [
       "198"
      ]
     },
     "execution_count": 30,
     "metadata": {},
     "output_type": "execute_result"
    }
   ],
   "source": [
    "# Advanced Spark: Accumulators & Broadcast variables\n",
    "\n",
    "# function that splits the line as well as counts sedans and\n",
    "# Speed optimization\n",
    "\n",
    "# Initialize accumulator\n",
    "sedanCount = sc.accumulator(0)\n",
    "hatchbackCount = sc.accumulator(0)\n",
    "\n",
    "# Set Broadcast variable\n",
    "sedanText = sc.broadcast(\"sedan\")\n",
    "hatchbackText = sc.broadcast(\"hatchback\")\n",
    "\n",
    "def splitLines(line):\n",
    "    \n",
    "    global sedanCount\n",
    "    global hatchbackCount\n",
    "    \n",
    "    # Use broadcast variable to do comparison and set accumulator\n",
    "    if sedanText.value in line:\n",
    "        sedanCount += 1\n",
    "    if hatchbackText.value in line:\n",
    "        hatchbackCount += 1\n",
    "        \n",
    "    return line.split(\",\")\n",
    "\n",
    "# do the map\n",
    "splitData = autoData.map(splitLines)\n",
    "splitData.count()\n"
   ]
  },
  {
   "cell_type": "code",
   "execution_count": 31,
   "metadata": {},
   "outputs": [
    {
     "name": "stdout",
     "output_type": "stream",
     "text": [
      "92 67\n"
     ]
    }
   ],
   "source": [
    "print(sedanCount, hatchbackCount)"
   ]
  },
  {
   "cell_type": "code",
   "execution_count": 32,
   "metadata": {},
   "outputs": [
    {
     "data": {
      "text/plain": [
       "1"
      ]
     },
     "execution_count": 32,
     "metadata": {},
     "output_type": "execute_result"
    }
   ],
   "source": [
    "# Advanced Spark : Partitions\n",
    "collData.getNumPartitions()\n"
   ]
  },
  {
   "cell_type": "code",
   "execution_count": 33,
   "metadata": {},
   "outputs": [
    {
     "data": {
      "text/plain": [
       "5"
      ]
     },
     "execution_count": 33,
     "metadata": {},
     "output_type": "execute_result"
    }
   ],
   "source": [
    "# Specify no. of partitions.\n",
    "collData = sc.parallelize([3,5,4,7,4],2)\n",
    "collData.cache()\n",
    "collData.count()"
   ]
  },
  {
   "cell_type": "code",
   "execution_count": 34,
   "metadata": {},
   "outputs": [
    {
     "data": {
      "text/plain": [
       "2"
      ]
     },
     "execution_count": 34,
     "metadata": {},
     "output_type": "execute_result"
    }
   ],
   "source": [
    "collData.getNumPartitions()"
   ]
  },
  {
   "cell_type": "code",
   "execution_count": 2,
   "metadata": {},
   "outputs": [],
   "source": [
    "#Code Samples : Spark SQL\n",
    "\n",
    "from pyspark.sql import SQLContext\n",
    "sqlContext = SQLContext(sc)\n"
   ]
  },
  {
   "cell_type": "code",
   "execution_count": 3,
   "metadata": {},
   "outputs": [
    {
     "name": "stdout",
     "output_type": "stream",
     "text": [
      "+---+------+------+-----------------+------+\n",
      "|age|deptid|gender|             name|salary|\n",
      "+---+------+------+-----------------+------+\n",
      "| 32|   100|  male|Benjamin Garrison|  3000|\n",
      "| 40|   200|  male|    Holland Drake|  4500|\n",
      "| 26|   100|  male|  Burks Velasquez|  2700|\n",
      "| 51|   100|female|    June Rutledge|  4300|\n",
      "| 44|   200|  male|    Nielsen Knapp|  6500|\n",
      "+---+------+------+-----------------+------+\n",
      "\n"
     ]
    }
   ],
   "source": [
    "# Working with Data Frames\n",
    "\n",
    "# Create a data frame from a JSON file\n",
    "empDf = sqlContext.read.json(\"customerData.json\")\n",
    "empDf.show()"
   ]
  },
  {
   "cell_type": "code",
   "execution_count": 4,
   "metadata": {},
   "outputs": [
    {
     "name": "stdout",
     "output_type": "stream",
     "text": [
      "root\n",
      " |-- age: string (nullable = true)\n",
      " |-- deptid: string (nullable = true)\n",
      " |-- gender: string (nullable = true)\n",
      " |-- name: string (nullable = true)\n",
      " |-- salary: string (nullable = true)\n",
      "\n"
     ]
    }
   ],
   "source": [
    "empDf.printSchema()"
   ]
  },
  {
   "cell_type": "code",
   "execution_count": 5,
   "metadata": {},
   "outputs": [
    {
     "name": "stdout",
     "output_type": "stream",
     "text": [
      "+-----------------+\n",
      "|             name|\n",
      "+-----------------+\n",
      "|Benjamin Garrison|\n",
      "|    Holland Drake|\n",
      "|  Burks Velasquez|\n",
      "|    June Rutledge|\n",
      "|    Nielsen Knapp|\n",
      "+-----------------+\n",
      "\n"
     ]
    }
   ],
   "source": [
    "# Do SQL queries\n",
    "empDf.select(\"name\").show()"
   ]
  },
  {
   "cell_type": "code",
   "execution_count": 6,
   "metadata": {},
   "outputs": [
    {
     "name": "stdout",
     "output_type": "stream",
     "text": [
      "+---+------+------+-------------+------+\n",
      "|age|deptid|gender|         name|salary|\n",
      "+---+------+------+-------------+------+\n",
      "| 40|   200|  male|Holland Drake|  4500|\n",
      "+---+------+------+-------------+------+\n",
      "\n"
     ]
    }
   ],
   "source": [
    "empDf.filter(empDf[\"age\"] == 40).show()"
   ]
  },
  {
   "cell_type": "code",
   "execution_count": 7,
   "metadata": {},
   "outputs": [
    {
     "name": "stdout",
     "output_type": "stream",
     "text": [
      "+------+-----+\n",
      "|gender|count|\n",
      "+------+-----+\n",
      "|female|    1|\n",
      "|  male|    4|\n",
      "+------+-----+\n",
      "\n"
     ]
    }
   ],
   "source": [
    "empDf.groupBy(\"gender\").count().show()"
   ]
  },
  {
   "cell_type": "code",
   "execution_count": 8,
   "metadata": {},
   "outputs": [
    {
     "name": "stdout",
     "output_type": "stream",
     "text": [
      "+------+------------------+--------+\n",
      "|deptid|       avg(salary)|max(age)|\n",
      "+------+------------------+--------+\n",
      "|   200|            5500.0|      44|\n",
      "|   100|3333.3333333333335|      51|\n",
      "+------+------------------+--------+\n",
      "\n"
     ]
    }
   ],
   "source": [
    "empDf.groupBy(\"deptid\").\\\n",
    "    agg({\"salary\":\"avg\", \"age\":\"max\"}).show()"
   ]
  },
  {
   "cell_type": "code",
   "execution_count": 9,
   "metadata": {},
   "outputs": [
    {
     "name": "stderr",
     "output_type": "stream",
     "text": [
      "/home/pamba/spark-2.4.4-bin-hadoop2.7/spark-2.4.4-bin-hadoop2.7/python/lib/pyspark.zip/pyspark/sql/session.py:346: UserWarning: inferring schema from dict is deprecated,please use pyspark.sql.Row instead\n"
     ]
    },
    {
     "name": "stdout",
     "output_type": "stream",
     "text": [
      "+---+-----------+\n",
      "| id|       name|\n",
      "+---+-----------+\n",
      "|100|      Sales|\n",
      "|200|Engineering|\n",
      "+---+-----------+\n",
      "\n"
     ]
    }
   ],
   "source": [
    "# Create a data frame from a list\n",
    "deptList = [{'name':'Sales', 'id':'100'},\n",
    "           {'name':'Engineering', 'id':'200'}]\n",
    "deptDf = sqlContext.createDataFrame(deptList)\n",
    "deptDf.show()"
   ]
  },
  {
   "cell_type": "code",
   "execution_count": 10,
   "metadata": {},
   "outputs": [
    {
     "name": "stdout",
     "output_type": "stream",
     "text": [
      "+---+------+------+-----------------+------+---+-----------+\n",
      "|age|deptid|gender|             name|salary| id|       name|\n",
      "+---+------+------+-----------------+------+---+-----------+\n",
      "| 51|   100|female|    June Rutledge|  4300|100|      Sales|\n",
      "| 26|   100|  male|  Burks Velasquez|  2700|100|      Sales|\n",
      "| 32|   100|  male|Benjamin Garrison|  3000|100|      Sales|\n",
      "| 44|   200|  male|    Nielsen Knapp|  6500|200|Engineering|\n",
      "| 40|   200|  male|    Holland Drake|  4500|200|Engineering|\n",
      "+---+------+------+-----------------+------+---+-----------+\n",
      "\n"
     ]
    }
   ],
   "source": [
    "# Join the data frames\n",
    "empDf.join(deptDf, empDf.deptid == deptDf.id).show()"
   ]
  },
  {
   "cell_type": "code",
   "execution_count": 12,
   "metadata": {},
   "outputs": [
    {
     "ename": "NameError",
     "evalue": "name 'empDF' is not defined",
     "output_type": "error",
     "traceback": [
      "\u001b[0;31m---------------------------------------------------------------------------\u001b[0m",
      "\u001b[0;31mNameError\u001b[0m                                 Traceback (most recent call last)",
      "\u001b[0;32m<ipython-input-12-05e8d22f75ca>\u001b[0m in \u001b[0;36m<module>\u001b[0;34m\u001b[0m\n\u001b[1;32m      1\u001b[0m \u001b[0;31m# Cascading operations\u001b[0m\u001b[0;34m\u001b[0m\u001b[0;34m\u001b[0m\u001b[0;34m\u001b[0m\u001b[0m\n\u001b[0;32m----> 2\u001b[0;31m \u001b[0mempDf\u001b[0m\u001b[0;34m.\u001b[0m\u001b[0mfilter\u001b[0m\u001b[0;34m(\u001b[0m\u001b[0mempDF\u001b[0m\u001b[0;34m[\u001b[0m\u001b[0;34m\"age\"\u001b[0m\u001b[0;34m]\u001b[0m \u001b[0;34m>\u001b[0m \u001b[0;36m30\u001b[0m\u001b[0;34m)\u001b[0m\u001b[0;34m.\u001b[0m\u001b[0mjoin\u001b[0m\u001b[0;34m(\u001b[0m\u001b[0mdeptDf\u001b[0m\u001b[0;34m,\u001b[0m \u001b[0mempDf\u001b[0m\u001b[0;34m.\u001b[0m\u001b[0mdeptid\u001b[0m \u001b[0;34m==\u001b[0m \u001b[0mdeptDf\u001b[0m\u001b[0;34m.\u001b[0m\u001b[0mid\u001b[0m\u001b[0;34m)\u001b[0m\u001b[0;34m.\u001b[0m\u001b[0;31m\\\u001b[0m\u001b[0;34m\u001b[0m\u001b[0;34m\u001b[0m\u001b[0m\n\u001b[0m\u001b[1;32m      3\u001b[0m         \u001b[0mgroupBy\u001b[0m\u001b[0;34m(\u001b[0m\u001b[0;34m\"deptid\"\u001b[0m\u001b[0;34m)\u001b[0m\u001b[0;34m.\u001b[0m\u001b[0;31m\\\u001b[0m\u001b[0;34m\u001b[0m\u001b[0;34m\u001b[0m\u001b[0m\n\u001b[1;32m      4\u001b[0m         \u001b[0magg\u001b[0m\u001b[0;34m(\u001b[0m\u001b[0;34m{\u001b[0m\u001b[0;34m'salary'\u001b[0m\u001b[0;34m:\u001b[0m\u001b[0;34m'avg'\u001b[0m\u001b[0;34m,\u001b[0m \u001b[0;34m'age'\u001b[0m\u001b[0;34m:\u001b[0m\u001b[0;34m'max'\u001b[0m\u001b[0;34m}\u001b[0m\u001b[0;34m)\u001b[0m\u001b[0;34m.\u001b[0m\u001b[0mshow\u001b[0m\u001b[0;34m(\u001b[0m\u001b[0;34m)\u001b[0m\u001b[0;34m\u001b[0m\u001b[0;34m\u001b[0m\u001b[0m\n\u001b[1;32m      5\u001b[0m \u001b[0;34m\u001b[0m\u001b[0m\n",
      "\u001b[0;31mNameError\u001b[0m: name 'empDF' is not defined"
     ]
    }
   ],
   "source": [
    "# Cascading operations\n",
    "empDf.filter(empDF[\"age\"] > 30).join(deptDf, empDf.deptid == deptDf.id).\\\n",
    "        groupBy(\"deptid\").\\\n",
    "        agg({'salary':'avg', 'age':'max'}).show()\n",
    "        "
   ]
  },
  {
   "cell_type": "code",
   "execution_count": 13,
   "metadata": {},
   "outputs": [],
   "source": [
    "# Register a data frame as table and run SQL statements against\n",
    "empDf.registerTempTable(\"employees\")"
   ]
  },
  {
   "cell_type": "code",
   "execution_count": 14,
   "metadata": {},
   "outputs": [
    {
     "name": "stdout",
     "output_type": "stream",
     "text": [
      "+---+------+------+-------------+------+\n",
      "|age|deptid|gender|         name|salary|\n",
      "+---+------+------+-------------+------+\n",
      "| 40|   200|  male|Holland Drake|  4500|\n",
      "| 51|   100|female|June Rutledge|  4300|\n",
      "| 44|   200|  male|Nielsen Knapp|  6500|\n",
      "+---+------+------+-------------+------+\n",
      "\n"
     ]
    }
   ],
   "source": [
    "sqlContext.sql(\"select * from employees where salary > 4000\").show()"
   ]
  },
  {
   "cell_type": "code",
   "execution_count": 15,
   "metadata": {},
   "outputs": [
    {
     "name": "stdout",
     "output_type": "stream",
     "text": [
      "3000\n",
      "4500\n",
      "2700\n",
      "4300\n",
      "6500\n"
     ]
    }
   ],
   "source": [
    "#To pandas data frame\n",
    "empPands = empDf.toPandas()\n",
    "for index, row in empPands.iterrows():\n",
    "    print(row[\"salary\"])"
   ]
  },
  {
   "cell_type": "code",
   "execution_count": 40,
   "metadata": {},
   "outputs": [
    {
     "ename": "TypeError",
     "evalue": "options() takes 1 positional argument but 2 were given",
     "output_type": "error",
     "traceback": [
      "\u001b[0;31m---------------------------------------------------------------------------\u001b[0m",
      "\u001b[0;31mTypeError\u001b[0m                                 Traceback (most recent call last)",
      "\u001b[0;32m<ipython-input-40-f00761f3a563>\u001b[0m in \u001b[0;36m<module>\u001b[0;34m\u001b[0m\n\u001b[1;32m      9\u001b[0m demoDf = sqlContext.read.format(\"jdbc\").options(\n\u001b[1;32m     10\u001b[0m      \u001b[0;31m#url = \"jdbc:postgresql://localhost/mydb\",\u001b[0m\u001b[0;34m\u001b[0m\u001b[0;34m\u001b[0m\u001b[0;34m\u001b[0m\u001b[0m\n\u001b[0;32m---> 11\u001b[0;31m      conn).options(dbtable = \"COMPANY\").load()\n\u001b[0m\u001b[1;32m     12\u001b[0m \u001b[0;34m\u001b[0m\u001b[0m\n\u001b[1;32m     13\u001b[0m \u001b[0mdemoDf\u001b[0m\u001b[0;34m.\u001b[0m\u001b[0mshow\u001b[0m\u001b[0;34m(\u001b[0m\u001b[0;34m)\u001b[0m\u001b[0;34m\u001b[0m\u001b[0;34m\u001b[0m\u001b[0m\n",
      "\u001b[0;31mTypeError\u001b[0m: options() takes 1 positional argument but 2 were given"
     ]
    }
   ],
   "source": [
    "String url = \"jdbc:postgresql://localhost/test\";\n",
    "Properties props = new Properties();\n",
    "props.setProperty(\"user\",\"fred\");\n",
    "props.setProperty(\"password\",\"secret\");\n",
    "props.setProperty(\"ssl\",\"true\");\n",
    "Connection conn = DriverManager.getConnection(url, props);\n",
    "\n",
    "String url = \"jdbc:postgresql://localhost/test?user=fred&password=secret&ssl=true\";\n",
    "Connection conn = DriverManager.getConnection(url);\n",
    "\n",
    "import psycopg2\n",
    "# Working with Databases\n",
    "\n",
    "# Make sure that the spark classpaths are set appropriately in the\n",
    "# spark-defaults.conf file to include the driver files\n",
    "conn = psycopg2.connect(database=\"mydb\", user=\"postgres\", password=\"1234\", host=\"127.0.0.1\", port=\"5432\")\n",
    "\n",
    "demoDf = sqlContext.read.format(\"jdbc\").options(\n",
    "     #url = \"jdbc:postgresql://localhost/mydb\",\n",
    "     conn).options(dbtable = \"COMPANY\").load()\n",
    "\n",
    "demoDf.show()"
   ]
  },
  {
   "cell_type": "code",
   "execution_count": 16,
   "metadata": {},
   "outputs": [
    {
     "data": {
      "text/plain": [
       "197"
      ]
     },
     "execution_count": 16,
     "metadata": {},
     "output_type": "execute_result"
    }
   ],
   "source": [
    "# Creating data frames from RDD\n",
    "\n",
    "from pyspark.sql import Row\n",
    "lines = sc.textFile(\"auto-data.csv\")\n",
    "# remove the first line\n",
    "datalines = lines.filter(lambda x: \"FUELTYPE\" not in x)\n",
    "datalines.count()"
   ]
  },
  {
   "cell_type": "code",
   "execution_count": 17,
   "metadata": {},
   "outputs": [
    {
     "data": {
      "text/plain": [
       "[Row(body='hatchback', hp=69, make='subaru'),\n",
       " Row(body='hatchback', hp=48, make='chevrolet'),\n",
       " Row(body='hatchback', hp=68, make='mazda'),\n",
       " Row(body='hatchback', hp=62, make='toyota'),\n",
       " Row(body='hatchback', hp=68, make='mitsubishi'),\n",
       " Row(body='hatchback', hp=60, make='honda'),\n",
       " Row(body='sedan', hp=69, make='nissan'),\n",
       " Row(body='hatchback', hp=68, make='dodge'),\n",
       " Row(body='hatchback', hp=68, make='plymouth'),\n",
       " Row(body='hatchback', hp=68, make='mazda'),\n",
       " Row(body='hatchback', hp=68, make='mitsubishi'),\n",
       " Row(body='hatchback', hp=68, make='dodge'),\n",
       " Row(body='hatchback', hp=68, make='plymouth'),\n",
       " Row(body='hatchback', hp=70, make='chevrolet'),\n",
       " Row(body='hatchback', hp=62, make='toyota'),\n",
       " Row(body='hatchback', hp=68, make='dodge'),\n",
       " Row(body='hatchback', hp=58, make='honda'),\n",
       " Row(body='hatchback', hp=62, make='toyota'),\n",
       " Row(body='hatchback', hp=76, make='honda'),\n",
       " Row(body='sedan', hp=70, make='chevrolet'),\n",
       " Row(body='sedan', hp=69, make='nissan'),\n",
       " Row(body='hatchback', hp=68, make='mitsubishi'),\n",
       " Row(body='sedan', hp=68, make='dodge'),\n",
       " Row(body='sedan', hp=68, make='plymouth'),\n",
       " Row(body='sedan', hp=68, make='mazda'),\n",
       " Row(body='sedan', hp=78, make='isuzu'),\n",
       " Row(body='hatchback', hp=68, make='mazda'),\n",
       " Row(body='sedan', hp=69, make='nissan'),\n",
       " Row(body='hatchback', hp=76, make='honda'),\n",
       " Row(body='wagon', hp=62, make='toyota'),\n",
       " Row(body='sedan', hp=70, make='toyota'),\n",
       " Row(body='sedan', hp=88, make='mitsubishi'),\n",
       " Row(body='hatchback', hp=73, make='subaru'),\n",
       " Row(body='sedan', hp=55, make='nissan'),\n",
       " Row(body='sedan', hp=82, make='subaru'),\n",
       " Row(body='hatchback', hp=76, make='honda'),\n",
       " Row(body='hatchback', hp=70, make='toyota'),\n",
       " Row(body='sedan', hp=76, make='honda'),\n",
       " Row(body='wagon', hp=76, make='honda'),\n",
       " Row(body='sedan', hp=69, make='nissan'),\n",
       " Row(body='wagon', hp=69, make='nissan'),\n",
       " Row(body='sedan', hp=68, make='mazda'),\n",
       " Row(body='wagon', hp=82, make='subaru'),\n",
       " Row(body='sedan', hp=69, make='nissan'),\n",
       " Row(body='hatchback', hp=73, make='subaru'),\n",
       " Row(body='sedan', hp=68, make='dodge'),\n",
       " Row(body='sedan', hp=68, make='plymouth'),\n",
       " Row(body='hatchback', hp=102, make='mitsubishi'),\n",
       " Row(body='sedan', hp=70, make='toyota'),\n",
       " Row(body='sedan', hp=82, make='subaru'),\n",
       " Row(body='sedan', hp=52, make='volkswagen'),\n",
       " Row(body='hatchback', hp=56, make='toyota'),\n",
       " Row(body='hatchback', hp=69, make='nissan'),\n",
       " Row(body='hatchback', hp=86, make='honda'),\n",
       " Row(body='wagon', hp=62, make='toyota'),\n",
       " Row(body='sedan', hp=56, make='toyota'),\n",
       " Row(body='hatchback', hp=102, make='dodge'),\n",
       " Row(body='hatchback', hp=102, make='plymouth'),\n",
       " Row(body='sedan', hp=85, make='volkswagen'),\n",
       " Row(body='sedan', hp=52, make='volkswagen'),\n",
       " Row(body='wagon', hp=69, make='nissan'),\n",
       " Row(body='wagon', hp=82, make='subaru'),\n",
       " Row(body='sedan', hp=70, make='toyota'),\n",
       " Row(body='sedan', hp=88, make='mitsubishi'),\n",
       " Row(body='sedan', hp=85, make='volkswagen'),\n",
       " Row(body='hatchback', hp=70, make='toyota'),\n",
       " Row(body='hardtop', hp=69, make='nissan'),\n",
       " Row(body='hatchback', hp=70, make='toyota'),\n",
       " Row(body='hardtop', hp=116, make='toyota'),\n",
       " Row(body='sedan', hp=84, make='mazda'),\n",
       " Row(body='sedan', hp=85, make='volkswagen'),\n",
       " Row(body='hatchback', hp=88, make='mitsubishi'),\n",
       " Row(body='wagon', hp=62, make='toyota'),\n",
       " Row(body='sedan', hp=86, make='honda'),\n",
       " Row(body='hatchback', hp=84, make='mazda'),\n",
       " Row(body='wagon', hp=88, make='dodge'),\n",
       " Row(body='wagon', hp=88, make='plymouth'),\n",
       " Row(body='sedan', hp=92, make='toyota'),\n",
       " Row(body='hatchback', hp=97, make='nissan'),\n",
       " Row(body='hatchback', hp=86, make='honda'),\n",
       " Row(body='sedan', hp=82, make='subaru'),\n",
       " Row(body='sedan', hp=70, make='toyota'),\n",
       " Row(body='sedan', hp=116, make='mitsubishi'),\n",
       " Row(body='sedan', hp=116, make='mitsubishi'),\n",
       " Row(body='sedan', hp=112, make='toyota'),\n",
       " Row(body='sedan', hp=68, make='volkswagen'),\n",
       " Row(body='hatchback', hp=112, make='toyota'),\n",
       " Row(body='sedan', hp=97, make='nissan'),\n",
       " Row(body='hardtop', hp=116, make='toyota'),\n",
       " Row(body='hatchback', hp=116, make='mitsubishi'),\n",
       " Row(body='sedan', hp=94, make='subaru'),\n",
       " Row(body='hatchback', hp=90, make='volkswagen'),\n",
       " Row(body='hatchback', hp=92, make='toyota'),\n",
       " Row(body='hatchback', hp=116, make='toyota'),\n",
       " Row(body='sedan', hp=100, make='volkswagen'),\n",
       " Row(body='wagon', hp=94, make='subaru'),\n",
       " Row(body='sedan', hp=84, make='mazda'),\n",
       " Row(body='sedan', hp=86, make='honda'),\n",
       " Row(body='sedan', hp=100, make='honda'),\n",
       " Row(body='hatchback', hp=84, make='mazda'),\n",
       " Row(body='sedan', hp=73, make='toyota'),\n",
       " Row(body='sedan', hp=92, make='toyota'),\n",
       " Row(body='hatchback', hp=101, make='mazda'),\n",
       " Row(body='hatchback', hp=90, make='isuzu'),\n",
       " Row(body='hardtop', hp=116, make='toyota'),\n",
       " Row(body='hatchback', hp=84, make='mazda'),\n",
       " Row(body='hatchback', hp=92, make='toyota'),\n",
       " Row(body='sedan', hp=111, make='subaru'),\n",
       " Row(body='hatchback', hp=116, make='toyota'),\n",
       " Row(body='convertible', hp=90, make='volkswagen'),\n",
       " Row(body='wagon', hp=111, make='subaru'),\n",
       " Row(body='hatchback', hp=101, make='mazda'),\n",
       " Row(body='hatchback', hp=110, make='saab'),\n",
       " Row(body='sedan', hp=97, make='peugot'),\n",
       " Row(body='sedan', hp=110, make='saab'),\n",
       " Row(body='wagon', hp=88, make='volkswagen'),\n",
       " Row(body='wagon', hp=97, make='peugot'),\n",
       " Row(body='hatchback', hp=145, make='mitsubishi'),\n",
       " Row(body='hatchback', hp=145, make='plymouth'),\n",
       " Row(body='sedan', hp=114, make='volvo'),\n",
       " Row(body='sedan', hp=101, make='honda'),\n",
       " Row(body='hatchback', hp=145, make='dodge'),\n",
       " Row(body='sedan', hp=95, make='peugot'),\n",
       " Row(body='sedan', hp=110, make='volkswagen'),\n",
       " Row(body='wagon', hp=114, make='volvo'),\n",
       " Row(body='convertible', hp=111, make='alfa-romero'),\n",
       " Row(body='sedan', hp=152, make='nissan'),\n",
       " Row(body='sedan', hp=152, make='nissan'),\n",
       " Row(body='hatchback', hp=101, make='mazda'),\n",
       " Row(body='sedan', hp=68, make='volkswagen'),\n",
       " Row(body='wagon', hp=95, make='peugot'),\n",
       " Row(body='sedan', hp=102, make='audi'),\n",
       " Row(body='wagon', hp=152, make='nissan'),\n",
       " Row(body='hatchback', hp=145, make='mitsubishi'),\n",
       " Row(body='hatchback', hp=145, make='mitsubishi'),\n",
       " Row(body='hatchback', hp=110, make='saab'),\n",
       " Row(body='sedan', hp=110, make='audi'),\n",
       " Row(body='sedan', hp=110, make='saab'),\n",
       " Row(body='sedan', hp=95, make='peugot'),\n",
       " Row(body='hatchback', hp=135, make='mazda'),\n",
       " Row(body='sedan', hp=156, make='toyota'),\n",
       " Row(body='wagon', hp=156, make='toyota'),\n",
       " Row(body='sedan', hp=114, make='volvo'),\n",
       " Row(body='hatchback', hp=161, make='toyota'),\n",
       " Row(body='sedan', hp=101, make='bmw'),\n",
       " Row(body='convertible', hp=111, make='alfa-romero'),\n",
       " Row(body='hatchback', hp=154, make='alfa-romero'),\n",
       " Row(body='hatchback', hp=175, make='mercury'),\n",
       " Row(body='wagon', hp=114, make='volvo'),\n",
       " Row(body='hatchback', hp=161, make='toyota'),\n",
       " Row(body='sedan', hp=97, make='peugot'),\n",
       " Row(body='wagon', hp=95, make='peugot'),\n",
       " Row(body='sedan', hp=114, make='volvo'),\n",
       " Row(body='sedan', hp=95, make='peugot'),\n",
       " Row(body='sedan', hp=101, make='bmw'),\n",
       " Row(body='wagon', hp=95, make='peugot'),\n",
       " Row(body='hatchback', hp=160, make='nissan'),\n",
       " Row(body='sedan', hp=115, make='audi'),\n",
       " Row(body='convertible', hp=116, make='toyota'),\n",
       " Row(body='sedan', hp=110, make='audi'),\n",
       " Row(body='sedan', hp=95, make='peugot'),\n",
       " Row(body='sedan', hp=142, make='peugot'),\n",
       " Row(body='hatchback', hp=160, make='saab'),\n",
       " Row(body='sedan', hp=120, make='mazda'),\n",
       " Row(body='sedan', hp=72, make='mazda'),\n",
       " Row(body='hatchback', hp=160, make='nissan'),\n",
       " Row(body='sedan', hp=162, make='volvo'),\n",
       " Row(body='sedan', hp=160, make='saab'),\n",
       " Row(body='wagon', hp=110, make='audi'),\n",
       " Row(body='wagon', hp=162, make='volvo'),\n",
       " Row(body='sedan', hp=160, make='volvo'),\n",
       " Row(body='hatchback', hp=200, make='nissan'),\n",
       " Row(body='sedan', hp=121, make='bmw'),\n",
       " Row(body='sedan', hp=121, make='bmw'),\n",
       " Row(body='sedan', hp=134, make='volvo'),\n",
       " Row(body='hatchback', hp=143, make='porsche'),\n",
       " Row(body='sedan', hp=106, make='volvo'),\n",
       " Row(body='sedan', hp=114, make='volvo'),\n",
       " Row(body='sedan', hp=140, make='audi'),\n",
       " Row(body='sedan', hp=121, make='bmw'),\n",
       " Row(body='sedan', hp=123, make='mercedes-benz'),\n",
       " Row(body='hardtop', hp=123, make='mercedes-benz'),\n",
       " Row(body='wagon', hp=123, make='mercedes-benz'),\n",
       " Row(body='sedan', hp=182, make='bmw'),\n",
       " Row(body='sedan', hp=123, make='mercedes-benz'),\n",
       " Row(body='sedan', hp=176, make='jaguar'),\n",
       " Row(body='hardtop', hp=207, make='porsche'),\n",
       " Row(body='hardtop', hp=207, make='porsche'),\n",
       " Row(body='sedan', hp=155, make='mercedes-benz'),\n",
       " Row(body='convertible', hp=155, make='mercedes-benz'),\n",
       " Row(body='sedan', hp=176, make='jaguar'),\n",
       " Row(body='sedan', hp=262, make='jaguar'),\n",
       " Row(body='sedan', hp=182, make='bmw'),\n",
       " Row(body='convertible', hp=207, make='porsche'),\n",
       " Row(body='sedan', hp=184, make='mercedes-benz'),\n",
       " Row(body='sedan', hp=182, make='bmw'),\n",
       " Row(body='hardtop', hp=184, make='mercedes-benz')]"
      ]
     },
     "execution_count": 17,
     "metadata": {},
     "output_type": "execute_result"
    }
   ],
   "source": [
    "parts = datalines.map(lambda l: l.split(\",\"))\n",
    "autoMap = parts.map(lambda p: Row(make=p[0], \\\n",
    "         body=p[4], hp=int(p[7])))\n",
    "autoMap.collect()\n"
   ]
  },
  {
   "cell_type": "code",
   "execution_count": 18,
   "metadata": {},
   "outputs": [
    {
     "name": "stdout",
     "output_type": "stream",
     "text": [
      "+-----------+---+-------+\n",
      "|       body| hp|   make|\n",
      "+-----------+---+-------+\n",
      "|    hardtop|207|porsche|\n",
      "|    hardtop|207|porsche|\n",
      "|      sedan|262| jaguar|\n",
      "|convertible|207|porsche|\n",
      "+-----------+---+-------+\n",
      "\n"
     ]
    }
   ],
   "source": [
    "# Infer the schema, and register the DataFrame as a table\n",
    "autoDf = sqlContext.createDataFrame(autoMap)\n",
    "autoDf.registerTempTable(\"autos\")\n",
    "sqlContext.sql(\"select * from autos where hp > 200\").show()"
   ]
  },
  {
   "cell_type": "code",
   "execution_count": 2,
   "metadata": {},
   "outputs": [],
   "source": [
    "import os\n",
    "import sys\n",
    "os.chdir(\"/home/pamba/Desktop/HomeLearning/ApacheSpark/Python\")\n",
    "os.curdir\n",
    "\n",
    "\n",
    "\n",
    "if 'SPARK_HOME' not in os.environ:\n",
    "    os.environ['SPARK_HOME'] = '/home/pamba/spark-2.4.4-bin-hadoop2.7/spark-2.4.4-bin-hadoop2.7'\n",
    "    \n",
    "\n",
    "os.environ['JAVA_HOME'] = '/home/pamba/opt/jdk1.8.0_241'\n",
    "    \n",
    "# Create a variable for our root path\n",
    "SPARK_HOME = os.environ['SPARK_HOME']\n",
    "\n",
    "\n",
    "sys.path.insert(0,os.path.join(SPARK_HOME, \"python\"))\n",
    "sys.path.insert(0,os.path.join(SPARK_HOME, \"python\",\"lib\"))\n",
    "sys.path.insert(0,os.path.join(SPARK_HOME, \"python\",\"lib\",\"pyspark.zip\"))\n",
    "sys.path.insert(0,os.path.join(SPARK_HOME, \"python\",\"lib\",\"py4j-0.10.7-src.zip\"))\n",
    "\n",
    "\n",
    "from pyspark import SparkContext\n",
    "from pyspark import SparkConf\n",
    "\n",
    "# Configure Sparl settings\n",
    "conf=SparkConf()\n",
    "conf.set(\"spark.executor.memory\", \"1g\")\n",
    "conf.set(\"spark.cores.max\", \"2\")\n",
    "\n",
    "conf.setAppName(\"V2 Maestros\")\n",
    "\n",
    "# Initialize SparkContext. Run only once. Otherwise you get \n",
    "# Context Error\n",
    "# For streaming create a spark context with 2 threads.\n",
    "sc = SparkContext('local[2]', conf=conf)\n",
    "\n",
    "from pyspark.streaming import StreamingContext"
   ]
  },
  {
   "cell_type": "code",
   "execution_count": 1,
   "metadata": {},
   "outputs": [],
   "source": [
    "# Streaming with simple data\n",
    "\n",
    "vc = [[-0.1, -0.2], [0.1,0.3], [1.1,1.5], [0.9,0.9]]\n",
    "dvc = [sc.parallelize(i,1) for i in vc]\n",
    "ssc = StreamingContext(sc, 2)\n",
    "input_stream = ssc.queueStream(dvc)\n",
    "\n",
    "def get_output(rdd):\n",
    "    print(rdd.collect())\n",
    "input_stream.foreachRDD(get_output)\n",
    "ssc.start()\n",
    "ssc.stop"
   ]
  },
  {
   "cell_type": "code",
   "execution_count": 3,
   "metadata": {},
   "outputs": [],
   "source": [
    "# Streaming with TCP/IP data\n",
    "\n",
    "streamContext = StreamingContext(sc,3)\n",
    "\n",
    "totalLines = 0\n",
    "lines = streamContext.socketTextStream(\"localhost\", 9000)\n",
    "\n",
    "# Count lines\n",
    "totalLines = 0\n",
    "linesCount = 0\n",
    "\n",
    "# Word count within RDD\n",
    "words = lines.flatMap(lambda line: line.split(\",\"))\n",
    "pairs = words.map(lambda word: (word, 1))\n",
    "wordCounts = pairs.reduceByKey(lambda x,y: x + y )\n",
    "wordCounts.pprint(2)\n",
    "\n",
    "def computeMetrics(rdd):\n",
    "    global totalLines\n",
    "    global linesCount\n",
    "    linesCount=rdd.count()\n",
    "    totalLines+=linesCount()\n",
    "    print(rdd.collect())\n",
    "    print(\"Lines in RDD :\", linesCount, \" Total Lines:\", totalLines)\n",
    "\n",
    "lines.foreachRDD(computeMetrics)\n",
    "\n",
    "def windowMetrics(rdd):\n",
    "    print(\"Window RDD size:\", rdd.count())\n",
    "    \n",
    "windowedRDD = lines.window(6,3)\n",
    "windowedRDD.foreachRDD(windowMetrics)\n",
    "\n",
    "\n",
    "\n",
    "    "
   ]
  },
  {
   "cell_type": "code",
   "execution_count": 4,
   "metadata": {},
   "outputs": [
    {
     "name": "stdout",
     "output_type": "stream",
     "text": [
      "-------------------------------------------\n",
      "Time: 2020-03-12 02:09:18\n",
      "-------------------------------------------\n",
      "('ERM da vinci code and it sucked...', 1)\n",
      "('da vinci code was a terrible movie.', 1)\n",
      "\n",
      "Window RDD size: 2\n",
      "-------------------------------------------\n",
      "Time: 2020-03-12 02:09:21\n",
      "-------------------------------------------\n",
      "('well DA VINCI CODE SUCKS!!', 1)\n",
      "('I really hate The Da Vinci Code.', 1)\n",
      "...\n",
      "\n",
      "Window RDD size: 5\n",
      "-------------------------------------------\n",
      "Time: 2020-03-12 02:09:24\n",
      "-------------------------------------------\n",
      "('I HATED Da Vinci Code!', 1)\n",
      "('The Da Vinci code sucks and is also a page turner...', 1)\n",
      "\n",
      "Window RDD size: 5\n",
      "-------------------------------------------\n",
      "Time: 2020-03-12 02:09:27\n",
      "-------------------------------------------\n",
      "('I HATED Da Vinci Code!', 1)\n",
      "('then was the da vinci code', 1)\n",
      "\n",
      "Window RDD size: 4\n",
      "-------------------------------------------\n",
      "Time: 2020-03-12 02:09:30\n",
      "-------------------------------------------\n",
      "('I forgot how much I hated Da Vinci Code.', 1)\n",
      "('The Da Vinci Code was a really good movie.', 1)\n",
      "...\n",
      "\n",
      "Window RDD size: 5\n",
      "-------------------------------------------\n",
      "Time: 2020-03-12 02:09:33\n",
      "-------------------------------------------\n",
      "('i loved da vinci code..', 1)\n",
      "('lol nd i heard da vinci code sucks..', 1)\n",
      "\n",
      "Window RDD size: 5\n",
      "-------------------------------------------\n",
      "Time: 2020-03-12 02:09:36\n",
      "-------------------------------------------\n",
      "('then was the da vinci code', 1)\n",
      "('The Da Vinci Code was awesome...', 1)\n",
      "\n",
      "Window RDD size: 4\n",
      "-------------------------------------------\n",
      "Time: 2020-03-12 02:09:39\n",
      "-------------------------------------------\n",
      "('i loved the da vinci code.', 1)\n",
      "('I loved the Da Vinci Code', 1)\n",
      "\n",
      "Window RDD size: 4\n",
      "-------------------------------------------\n",
      "Time: 2020-03-12 02:09:42\n",
      "-------------------------------------------\n",
      "('i LOVED the Da Vinci Code.', 1)\n",
      "\n",
      "Window RDD size: 3\n",
      "-------------------------------------------\n",
      "Time: 2020-03-12 02:09:45\n",
      "-------------------------------------------\n",
      "('oh so beautiful Da Vinci Code...', 1)\n",
      "('ERM da vinci code and it sucked...', 1)\n",
      "...\n",
      "\n",
      "Window RDD size: 4\n",
      "-------------------------------------------\n",
      "Time: 2020-03-12 02:09:48\n",
      "-------------------------------------------\n",
      "('Da Vinci Code is of course a awesome book', 1)\n",
      "('The Da Vinci Code is an awesome book.', 1)\n",
      "...\n",
      "\n",
      "Window RDD size: 6\n",
      "-------------------------------------------\n",
      "Time: 2020-03-12 02:09:51\n",
      "-------------------------------------------\n",
      "('da vinci code is awesome.', 1)\n",
      "('Da Vinci Code sucks...', 1)\n",
      "\n",
      "Window RDD size: 5\n",
      "-------------------------------------------\n",
      "Time: 2020-03-12 02:09:54\n",
      "-------------------------------------------\n",
      "('I know Da Vinci Code is going to suck.', 1)\n",
      "('Da vinci code is an awesome book.', 1)\n",
      "\n",
      "Window RDD size: 4\n",
      "-------------------------------------------\n",
      "Time: 2020-03-12 02:09:57\n",
      "-------------------------------------------\n",
      "('I hate the Da Vinci Code..', 1)\n",
      "('I love the Da Vinci Code.', 1)\n",
      "\n",
      "Window RDD size: 4\n",
      "-------------------------------------------\n",
      "Time: 2020-03-12 02:10:00\n",
      "-------------------------------------------\n",
      "('the da vinci code is awesome!', 1)\n",
      "\n",
      "Window RDD size: 3\n",
      "-------------------------------------------\n",
      "Time: 2020-03-12 02:10:03\n",
      "-------------------------------------------\n",
      "('I forgot how much I hated Da Vinci Code.', 1)\n",
      "('I really like The Da Vinci Code.', 1)\n",
      "...\n",
      "\n",
      "Window RDD size: 4\n",
      "-------------------------------------------\n",
      "Time: 2020-03-12 02:10:06\n",
      "-------------------------------------------\n",
      "('The Da Vinci Code sucked', 1)\n",
      "('Thank God Someone Has Sense I hate The Da Vinci Code.', 1)\n",
      "\n",
      "Window RDD size: 5\n",
      "-------------------------------------------\n",
      "Time: 2020-03-12 02:10:09\n",
      "-------------------------------------------\n",
      "('i fucking hated the da vinci code.', 1)\n",
      "('The Da Vinci Code was REALLY good.', 1)\n",
      "\n",
      "Window RDD size: 4\n",
      "-------------------------------------------\n",
      "Time: 2020-03-12 02:10:12\n",
      "-------------------------------------------\n",
      "('omg i love the da vinci code that is such an awesome book!', 1)\n",
      "('I really hate The Da Vinci Code.', 1)\n",
      "\n",
      "Window RDD size: 4\n",
      "-------------------------------------------\n",
      "Time: 2020-03-12 02:10:15\n",
      "-------------------------------------------\n",
      "(\"I overslept though so jenn and i didn't get to see the da vinci code which sucked and now i have no money so yeah maybe later.\", 1)\n",
      "('i thought the da vinci code movie was really boring.', 1)\n",
      "\n",
      "Window RDD size: 4\n",
      "-------------------------------------------\n",
      "Time: 2020-03-12 02:10:18\n",
      "-------------------------------------------\n",
      "('The Da Vinci Code sucked', 1)\n",
      "('The Da Vinci Code sucks..', 1)\n",
      "...\n",
      "\n",
      "Window RDD size: 6\n",
      "-------------------------------------------\n",
      "Time: 2020-03-12 02:10:21\n",
      "-------------------------------------------\n",
      "('Da Vinci Code really did suck and congrats on beating Jay it must of been like that time at Rickards when we beat them in the finals.', 1)\n",
      "\n",
      "Window RDD size: 5\n",
      "-------------------------------------------\n",
      "Time: 2020-03-12 02:10:24\n",
      "-------------------------------------------\n",
      "('then was the da vinci code', 1)\n",
      "\n",
      "Window RDD size: 2\n",
      "-------------------------------------------\n",
      "Time: 2020-03-12 02:10:27\n",
      "-------------------------------------------\n",
      "('Da Vinci Code is of course a awesome book', 1)\n",
      "(\"looks amazingly fun and possibly a bit cold... [ don't tell anyone ] but da vinci code is an awesome book.\", 1)\n",
      "\n",
      "Window RDD size: 3\n",
      "-------------------------------------------\n",
      "Time: 2020-03-12 02:10:30\n",
      "-------------------------------------------\n",
      "('TO NIGHT:: THE DA VINCI CODE AND A BEAUTIFUL MIND...', 1)\n",
      "\n",
      "Window RDD size: 3\n",
      "-------------------------------------------\n",
      "Time: 2020-03-12 02:10:33\n",
      "-------------------------------------------\n",
      "('i thought the da vinci code movie was really boring.', 1)\n",
      "(\"I overslept though so jenn and i didn't get to see the da vinci code which sucked and now i have no money so yeah maybe later.\", 1)\n",
      "...\n",
      "\n",
      "Window RDD size: 4\n",
      "-------------------------------------------\n",
      "Time: 2020-03-12 02:10:36\n",
      "-------------------------------------------\n",
      "('DA VINCI CODE-SUCKED BALLZ.', 1)\n",
      "\n",
      "Window RDD size: 4\n",
      "-------------------------------------------\n",
      "Time: 2020-03-12 02:10:39\n",
      "-------------------------------------------\n",
      "('also loved the da vinci code..', 1)\n",
      "('about how much i hate the da vinci code.', 1)\n",
      "...\n",
      "\n",
      "Window RDD size: 4\n",
      "-------------------------------------------\n",
      "Time: 2020-03-12 02:10:42\n",
      "-------------------------------------------\n",
      "('The Da Vinci Code was REALLY good.', 1)\n",
      "(\"looks amazingly fun and possibly a bit cold... [ don't tell anyone ] but da vinci code is an awesome book.\", 1)\n",
      "\n",
      "Window RDD size: 5\n",
      "-------------------------------------------\n",
      "Time: 2020-03-12 02:10:45\n",
      "-------------------------------------------\n",
      "('i loved the da vinci code.', 1)\n",
      "('And I absolutely loathe the Da Vinci Code.', 1)\n",
      "\n",
      "Window RDD size: 4\n",
      "-------------------------------------------\n",
      "Time: 2020-03-12 02:10:48\n",
      "-------------------------------------------\n",
      "('i liked the Da Vinci Code a lot.', 1)\n",
      "\n",
      "Window RDD size: 3\n",
      "-------------------------------------------\n",
      "Time: 2020-03-12 02:10:51\n",
      "-------------------------------------------\n",
      "(\"that's not even an exaggeration ) and at midnight we went to Wal-Mart to buy the Da Vinci Code\", 1)\n",
      "('about how much i hate the da vinci code.', 1)\n",
      "...\n",
      "\n",
      "Window RDD size: 4\n",
      "-------------------------------------------\n",
      "Time: 2020-03-12 02:10:54\n",
      "-------------------------------------------\n",
      "('I love the Da Vinci Code.', 1)\n",
      "\n",
      "Window RDD size: 4\n",
      "-------------------------------------------\n",
      "Time: 2020-03-12 02:10:57\n",
      "-------------------------------------------\n",
      "('i thought the da vinci code movie was really boring.', 1)\n",
      "('Da Vinci Code does suck.', 1)\n",
      "\n",
      "Window RDD size: 3\n",
      "-------------------------------------------\n",
      "Time: 2020-03-12 02:11:00\n",
      "-------------------------------------------\n",
      "('I thought the Da Vinci Code was a pretty good book.', 1)\n",
      "\n",
      "Window RDD size: 3\n",
      "-------------------------------------------\n",
      "Time: 2020-03-12 02:11:03\n",
      "-------------------------------------------\n",
      "(\"I overslept though so jenn and i didn't get to see the da vinci code which sucked and now i have no money so yeah maybe later.\", 1)\n",
      "('the da vinci code sucked lol...', 1)\n",
      "...\n",
      "\n",
      "Window RDD size: 4\n",
      "-------------------------------------------\n",
      "Time: 2020-03-12 02:11:06\n",
      "-------------------------------------------\n",
      "('THE DA VINCI CODE is AN AWESOME BOOK....', 1)\n",
      "\n"
     ]
    },
    {
     "name": "stdout",
     "output_type": "stream",
     "text": [
      "Window RDD size: 4\n",
      "-------------------------------------------\n",
      "Time: 2020-03-12 02:11:09\n",
      "-------------------------------------------\n",
      "(\"I also think The Da Vinci Code sucked balls and it's the worst piece of shit I've ever read.\", 1)\n",
      "('i loved da vinci code..', 1)\n",
      "...\n",
      "\n",
      "Window RDD size: 4\n",
      "-------------------------------------------\n",
      "Time: 2020-03-12 02:11:12\n",
      "-------------------------------------------\n",
      "('I know Da Vinci Code is going to suck.', 1)\n",
      "\n",
      "Window RDD size: 4\n",
      "-------------------------------------------\n",
      "Time: 2020-03-12 02:11:15\n",
      "-------------------------------------------\n",
      "('I think this bolsters my arguments that both England and the Da Vinci Code sucks...', 1)\n",
      "('The more you say The Da Vinci Code is evil', 1)\n",
      "\n",
      "Window RDD size: 3\n",
      "-------------------------------------------\n",
      "Time: 2020-03-12 02:11:18\n",
      "-------------------------------------------\n",
      "('The Da Vinci Code is an awesome book...', 1)\n",
      "('Da vinci code is an awesome book.', 1)\n",
      "\n",
      "Window RDD size: 4\n",
      "-------------------------------------------\n",
      "Time: 2020-03-12 02:11:21\n",
      "-------------------------------------------\n",
      "('The more you say The Da Vinci Code is evil', 1)\n",
      "('Da Vinci Code is of course a awesome book', 1)\n",
      "\n",
      "Window RDD size: 4\n",
      "-------------------------------------------\n",
      "Time: 2020-03-12 02:11:24\n",
      "-------------------------------------------\n",
      "('And better..-We all know Da Vinci code is bogus and inaccurate.', 1)\n",
      "('TO NIGHT:: THE DA VINCI CODE AND A BEAUTIFUL MIND...', 1)\n",
      "...\n",
      "\n",
      "Window RDD size: 5\n",
      "-------------------------------------------\n",
      "Time: 2020-03-12 02:11:27\n",
      "-------------------------------------------\n",
      "('I love The Da Vinci Code.', 1)\n",
      "('I really like The Da Vinci Code.', 1)\n",
      "...\n",
      "\n",
      "Window RDD size: 6\n",
      "-------------------------------------------\n",
      "Time: 2020-03-12 02:11:30\n",
      "-------------------------------------------\n",
      "('I hated The Da Vinci Code.', 1)\n",
      "\n",
      "Window RDD size: 4\n",
      "-------------------------------------------\n",
      "Time: 2020-03-12 02:11:33\n",
      "-------------------------------------------\n",
      "('The Da Vinci Code sucks..', 1)\n",
      "(\"The Da Vinci Code's backtory on various religious historical figures and such were interesting at times\", 1)\n",
      "\n",
      "Window RDD size: 3\n",
      "-------------------------------------------\n",
      "Time: 2020-03-12 02:11:36\n",
      "-------------------------------------------\n",
      "('Had an interesting conversation with one of the professors I work for about how Da Vinci Code sucks...', 1)\n",
      "('Da Vinci Code really did suck and congrats on beating Jay it must of been like that time at Rickards when we beat them in the finals.', 1)\n",
      "\n"
     ]
    }
   ],
   "source": [
    "streamContext.start()"
   ]
  },
  {
   "cell_type": "code",
   "execution_count": 5,
   "metadata": {},
   "outputs": [
    {
     "name": "stdout",
     "output_type": "stream",
     "text": [
      "Window RDD size: 4\n"
     ]
    }
   ],
   "source": [
    "streamContext.stop()\n"
   ]
  },
  {
   "cell_type": "code",
   "execution_count": 7,
   "metadata": {},
   "outputs": [
    {
     "name": "stdout",
     "output_type": "stream",
     "text": [
      "Overall lines :  0\n"
     ]
    }
   ],
   "source": [
    "print(\"Overall lines : \", totalLines)"
   ]
  },
  {
   "cell_type": "code",
   "execution_count": 2,
   "metadata": {},
   "outputs": [
    {
     "data": {
      "text/plain": [
       "auto-miles-per-gallon.csv MapPartitionsRDD[4] at textFile at NativeMethodAccessorImpl.java:0"
      ]
     },
     "execution_count": 2,
     "metadata": {},
     "output_type": "execute_result"
    }
   ],
   "source": [
    "#Spark Machine Learning - Linear Regression\n",
    "#Problem statement\n",
    "\n",
    "\"\"\"\n",
    "The input data set contains data about details of various car models. Based on the information provided, the goal \n",
    "is to come with a model to predict Miles-per-gallon of a given model.\n",
    "\n",
    "Techniques Used:\n",
    "\n",
    "1. Linear Regression ( mulit-variate)\n",
    "2. Data Imputation - replacing non-numeric data with numeric \n",
    "3. Variable Reduction - picking up only relevant features\n",
    "\n",
    "--------------------------------------\n",
    "\"\"\"\n",
    "import os\n",
    "os.chdir(\"/home/pamba/Desktop/HomeLearning/ApacheSpark/Python\")\n",
    "os.curdir\n",
    "\n",
    "# Load the csv file into a RDD\n",
    "autoData = sc.textFile(\"auto-miles-per-gallon.csv\")\n",
    "autoData.cache()\n",
    "\n",
    "\n"
   ]
  },
  {
   "cell_type": "code",
   "execution_count": 3,
   "metadata": {},
   "outputs": [
    {
     "data": {
      "text/plain": [
       "398"
      ]
     },
     "execution_count": 3,
     "metadata": {},
     "output_type": "execute_result"
    }
   ],
   "source": [
    "# Remove the first line (contains headers)\n",
    "dataLines = autoData.filter(lambda x: \"CYLINDERS\" not in x)\n",
    "dataLines.count()\n",
    "\n"
   ]
  },
  {
   "cell_type": "code",
   "execution_count": 11,
   "metadata": {},
   "outputs": [
    {
     "data": {
      "text/plain": [
       "[DenseVector([18.0, 8.0, 130.0, 12.0, 70.0]),\n",
       " DenseVector([15.0, 8.0, 165.0, 11.5, 70.0]),\n",
       " DenseVector([18.0, 8.0, 150.0, 11.0, 70.0]),\n",
       " DenseVector([16.0, 8.0, 150.0, 12.0, 70.0]),\n",
       " DenseVector([17.0, 8.0, 140.0, 10.5, 70.0]),\n",
       " DenseVector([15.0, 8.0, 198.0, 10.0, 70.0]),\n",
       " DenseVector([14.0, 8.0, 220.0, 9.0, 70.0]),\n",
       " DenseVector([14.0, 8.0, 215.0, 8.5, 70.0]),\n",
       " DenseVector([14.0, 8.0, 225.0, 10.0, 70.0]),\n",
       " DenseVector([15.0, 8.0, 190.0, 8.5, 70.0]),\n",
       " DenseVector([15.0, 8.0, 170.0, 10.0, 70.0]),\n",
       " DenseVector([14.0, 8.0, 160.0, 8.0, 70.0]),\n",
       " DenseVector([15.0, 8.0, 150.0, 9.5, 70.0]),\n",
       " DenseVector([14.0, 8.0, 225.0, 10.0, 70.0]),\n",
       " DenseVector([24.0, 4.0, 95.0, 15.0, 70.0]),\n",
       " DenseVector([22.0, 6.0, 95.0, 15.5, 70.0]),\n",
       " DenseVector([18.0, 6.0, 97.0, 15.5, 70.0]),\n",
       " DenseVector([21.0, 6.0, 85.0, 16.0, 70.0]),\n",
       " DenseVector([27.0, 4.0, 88.0, 14.5, 70.0]),\n",
       " DenseVector([26.0, 4.0, 46.0, 20.5, 70.0]),\n",
       " DenseVector([25.0, 4.0, 87.0, 17.5, 70.0]),\n",
       " DenseVector([24.0, 4.0, 90.0, 14.5, 70.0]),\n",
       " DenseVector([25.0, 4.0, 95.0, 17.5, 70.0]),\n",
       " DenseVector([26.0, 4.0, 113.0, 12.5, 70.0]),\n",
       " DenseVector([21.0, 6.0, 90.0, 15.0, 70.0]),\n",
       " DenseVector([10.0, 8.0, 215.0, 14.0, 70.0]),\n",
       " DenseVector([10.0, 8.0, 200.0, 15.0, 70.0]),\n",
       " DenseVector([11.0, 8.0, 210.0, 13.5, 70.0]),\n",
       " DenseVector([9.0, 8.0, 193.0, 18.5, 70.0]),\n",
       " DenseVector([27.0, 4.0, 88.0, 14.5, 71.0]),\n",
       " DenseVector([28.0, 4.0, 90.0, 15.5, 71.0]),\n",
       " DenseVector([25.0, 4.0, 95.0, 14.0, 71.0]),\n",
       " DenseVector([25.0, 4.0, 80.0, 19.0, 71.0]),\n",
       " DenseVector([19.0, 6.0, 100.0, 13.0, 71.0]),\n",
       " DenseVector([16.0, 6.0, 105.0, 15.5, 71.0]),\n",
       " DenseVector([17.0, 6.0, 100.0, 15.5, 71.0]),\n",
       " DenseVector([19.0, 6.0, 88.0, 15.5, 71.0]),\n",
       " DenseVector([18.0, 6.0, 100.0, 15.5, 71.0]),\n",
       " DenseVector([14.0, 8.0, 165.0, 12.0, 71.0]),\n",
       " DenseVector([14.0, 8.0, 175.0, 11.5, 71.0]),\n",
       " DenseVector([14.0, 8.0, 153.0, 13.5, 71.0]),\n",
       " DenseVector([14.0, 8.0, 150.0, 13.0, 71.0]),\n",
       " DenseVector([12.0, 8.0, 180.0, 11.5, 71.0]),\n",
       " DenseVector([13.0, 8.0, 170.0, 12.0, 71.0]),\n",
       " DenseVector([13.0, 8.0, 175.0, 12.0, 71.0]),\n",
       " DenseVector([18.0, 6.0, 110.0, 13.5, 71.0]),\n",
       " DenseVector([22.0, 4.0, 72.0, 19.0, 71.0]),\n",
       " DenseVector([19.0, 6.0, 100.0, 15.0, 71.0]),\n",
       " DenseVector([18.0, 6.0, 88.0, 14.5, 71.0]),\n",
       " DenseVector([23.0, 4.0, 86.0, 14.0, 71.0]),\n",
       " DenseVector([28.0, 4.0, 90.0, 14.0, 71.0]),\n",
       " DenseVector([30.0, 4.0, 70.0, 19.5, 71.0]),\n",
       " DenseVector([30.0, 4.0, 76.0, 14.5, 71.0]),\n",
       " DenseVector([31.0, 4.0, 65.0, 19.0, 71.0]),\n",
       " DenseVector([35.0, 4.0, 69.0, 18.0, 71.0]),\n",
       " DenseVector([27.0, 4.0, 60.0, 19.0, 71.0]),\n",
       " DenseVector([26.0, 4.0, 70.0, 20.5, 71.0]),\n",
       " DenseVector([24.0, 4.0, 95.0, 15.5, 72.0]),\n",
       " DenseVector([25.0, 4.0, 80.0, 17.0, 72.0]),\n",
       " DenseVector([23.0, 4.0, 54.0, 23.5, 72.0]),\n",
       " DenseVector([20.0, 4.0, 90.0, 19.5, 72.0]),\n",
       " DenseVector([21.0, 4.0, 86.0, 16.5, 72.0]),\n",
       " DenseVector([13.0, 8.0, 165.0, 12.0, 72.0]),\n",
       " DenseVector([14.0, 8.0, 175.0, 12.0, 72.0]),\n",
       " DenseVector([15.0, 8.0, 150.0, 13.5, 72.0]),\n",
       " DenseVector([14.0, 8.0, 153.0, 13.0, 72.0]),\n",
       " DenseVector([17.0, 8.0, 150.0, 11.5, 72.0]),\n",
       " DenseVector([11.0, 8.0, 208.0, 11.0, 72.0]),\n",
       " DenseVector([13.0, 8.0, 155.0, 13.5, 72.0]),\n",
       " DenseVector([12.0, 8.0, 160.0, 13.5, 72.0]),\n",
       " DenseVector([13.0, 8.0, 190.0, 12.5, 72.0]),\n",
       " DenseVector([19.0, 3.0, 97.0, 13.5, 72.0]),\n",
       " DenseVector([15.0, 8.0, 150.0, 12.5, 72.0]),\n",
       " DenseVector([13.0, 8.0, 130.0, 14.0, 72.0]),\n",
       " DenseVector([13.0, 8.0, 140.0, 16.0, 72.0]),\n",
       " DenseVector([14.0, 8.0, 150.0, 14.0, 72.0]),\n",
       " DenseVector([18.0, 4.0, 112.0, 14.5, 72.0]),\n",
       " DenseVector([22.0, 4.0, 76.0, 18.0, 72.0]),\n",
       " DenseVector([21.0, 4.0, 87.0, 19.5, 72.0]),\n",
       " DenseVector([26.0, 4.0, 69.0, 18.0, 72.0]),\n",
       " DenseVector([22.0, 4.0, 86.0, 16.0, 72.0]),\n",
       " DenseVector([28.0, 4.0, 92.0, 17.0, 72.0]),\n",
       " DenseVector([23.0, 4.0, 97.0, 14.5, 72.0]),\n",
       " DenseVector([28.0, 4.0, 80.0, 15.0, 72.0]),\n",
       " DenseVector([27.0, 4.0, 88.0, 16.5, 72.0]),\n",
       " DenseVector([13.0, 8.0, 175.0, 13.0, 73.0]),\n",
       " DenseVector([14.0, 8.0, 150.0, 11.5, 73.0]),\n",
       " DenseVector([13.0, 8.0, 145.0, 13.0, 73.0]),\n",
       " DenseVector([14.0, 8.0, 137.0, 14.5, 73.0]),\n",
       " DenseVector([15.0, 8.0, 150.0, 12.5, 73.0]),\n",
       " DenseVector([12.0, 8.0, 198.0, 11.5, 73.0]),\n",
       " DenseVector([13.0, 8.0, 150.0, 12.0, 73.0]),\n",
       " DenseVector([13.0, 8.0, 158.0, 13.0, 73.0]),\n",
       " DenseVector([14.0, 8.0, 150.0, 14.5, 73.0]),\n",
       " DenseVector([13.0, 8.0, 215.0, 11.0, 73.0]),\n",
       " DenseVector([12.0, 8.0, 225.0, 11.0, 73.0]),\n",
       " DenseVector([13.0, 8.0, 175.0, 11.0, 73.0]),\n",
       " DenseVector([18.0, 6.0, 105.0, 16.5, 73.0]),\n",
       " DenseVector([16.0, 6.0, 100.0, 18.0, 73.0]),\n",
       " DenseVector([18.0, 6.0, 100.0, 16.0, 73.0]),\n",
       " DenseVector([18.0, 6.0, 88.0, 16.5, 73.0]),\n",
       " DenseVector([23.0, 6.0, 95.0, 16.0, 73.0]),\n",
       " DenseVector([26.0, 4.0, 46.0, 21.0, 73.0]),\n",
       " DenseVector([11.0, 8.0, 150.0, 14.0, 73.0]),\n",
       " DenseVector([12.0, 8.0, 167.0, 12.5, 73.0]),\n",
       " DenseVector([13.0, 8.0, 170.0, 13.0, 73.0]),\n",
       " DenseVector([12.0, 8.0, 180.0, 12.5, 73.0]),\n",
       " DenseVector([18.0, 6.0, 100.0, 15.0, 73.0]),\n",
       " DenseVector([20.0, 4.0, 88.0, 19.0, 73.0]),\n",
       " DenseVector([21.0, 4.0, 72.0, 19.5, 73.0]),\n",
       " DenseVector([22.0, 4.0, 94.0, 16.5, 73.0]),\n",
       " DenseVector([18.0, 3.0, 90.0, 13.5, 73.0]),\n",
       " DenseVector([19.0, 4.0, 85.0, 18.5, 73.0]),\n",
       " DenseVector([21.0, 6.0, 107.0, 14.0, 73.0]),\n",
       " DenseVector([26.0, 4.0, 90.0, 15.5, 73.0]),\n",
       " DenseVector([15.0, 8.0, 145.0, 13.0, 73.0]),\n",
       " DenseVector([16.0, 8.0, 230.0, 9.5, 73.0]),\n",
       " DenseVector([29.0, 4.0, 49.0, 19.5, 73.0]),\n",
       " DenseVector([24.0, 4.0, 75.0, 15.5, 73.0]),\n",
       " DenseVector([20.0, 4.0, 91.0, 14.0, 73.0]),\n",
       " DenseVector([19.0, 4.0, 112.0, 15.5, 73.0]),\n",
       " DenseVector([15.0, 8.0, 150.0, 11.0, 73.0]),\n",
       " DenseVector([24.0, 4.0, 110.0, 14.0, 73.0]),\n",
       " DenseVector([20.0, 6.0, 122.0, 13.5, 73.0]),\n",
       " DenseVector([11.0, 8.0, 180.0, 11.0, 73.0]),\n",
       " DenseVector([20.0, 6.0, 95.0, 16.5, 74.0]),\n",
       " DenseVector([21.0, 6.0, 80.0, 17.0, 74.0]),\n",
       " DenseVector([19.0, 6.0, 100.0, 16.0, 74.0]),\n",
       " DenseVector([15.0, 6.0, 100.0, 17.0, 74.0]),\n",
       " DenseVector([31.0, 4.0, 67.0, 19.0, 74.0]),\n",
       " DenseVector([26.0, 4.0, 80.0, 16.5, 74.0]),\n",
       " DenseVector([32.0, 4.0, 65.0, 21.0, 74.0]),\n",
       " DenseVector([25.0, 4.0, 75.0, 17.0, 74.0]),\n",
       " DenseVector([16.0, 6.0, 100.0, 17.0, 74.0]),\n",
       " DenseVector([16.0, 6.0, 110.0, 18.0, 74.0]),\n",
       " DenseVector([18.0, 6.0, 105.0, 16.5, 74.0]),\n",
       " DenseVector([16.0, 8.0, 140.0, 14.0, 74.0]),\n",
       " DenseVector([13.0, 8.0, 150.0, 14.5, 74.0]),\n",
       " DenseVector([14.0, 8.0, 150.0, 13.5, 74.0]),\n",
       " DenseVector([14.0, 8.0, 140.0, 16.0, 74.0]),\n",
       " DenseVector([14.0, 8.0, 150.0, 15.5, 74.0]),\n",
       " DenseVector([29.0, 4.0, 83.0, 16.5, 74.0]),\n",
       " DenseVector([26.0, 4.0, 67.0, 15.5, 74.0]),\n",
       " DenseVector([26.0, 4.0, 78.0, 14.5, 74.0]),\n",
       " DenseVector([31.0, 4.0, 52.0, 16.5, 74.0]),\n",
       " DenseVector([32.0, 4.0, 61.0, 19.0, 74.0]),\n",
       " DenseVector([28.0, 4.0, 75.0, 14.5, 74.0]),\n",
       " DenseVector([24.0, 4.0, 75.0, 15.5, 74.0]),\n",
       " DenseVector([26.0, 4.0, 75.0, 14.0, 74.0]),\n",
       " DenseVector([24.0, 4.0, 97.0, 15.0, 74.0]),\n",
       " DenseVector([26.0, 4.0, 93.0, 15.5, 74.0]),\n",
       " DenseVector([31.0, 4.0, 67.0, 16.0, 74.0]),\n",
       " DenseVector([19.0, 6.0, 95.0, 16.0, 75.0]),\n",
       " DenseVector([18.0, 6.0, 105.0, 16.0, 75.0]),\n",
       " DenseVector([15.0, 6.0, 72.0, 21.0, 75.0]),\n",
       " DenseVector([15.0, 6.0, 72.0, 19.5, 75.0]),\n",
       " DenseVector([16.0, 8.0, 170.0, 11.5, 75.0]),\n",
       " DenseVector([15.0, 8.0, 145.0, 14.0, 75.0]),\n",
       " DenseVector([16.0, 8.0, 150.0, 14.5, 75.0]),\n",
       " DenseVector([14.0, 8.0, 148.0, 13.5, 75.0]),\n",
       " DenseVector([17.0, 6.0, 110.0, 21.0, 75.0]),\n",
       " DenseVector([16.0, 6.0, 105.0, 18.5, 75.0]),\n",
       " DenseVector([15.0, 6.0, 110.0, 19.0, 75.0]),\n",
       " DenseVector([18.0, 6.0, 95.0, 19.0, 75.0]),\n",
       " DenseVector([21.0, 6.0, 110.0, 15.0, 75.0]),\n",
       " DenseVector([20.0, 8.0, 110.0, 13.5, 75.0]),\n",
       " DenseVector([13.0, 8.0, 129.0, 12.0, 75.0]),\n",
       " DenseVector([29.0, 4.0, 75.0, 16.0, 75.0]),\n",
       " DenseVector([23.0, 4.0, 83.0, 17.0, 75.0]),\n",
       " DenseVector([20.0, 6.0, 100.0, 16.0, 75.0]),\n",
       " DenseVector([23.0, 4.0, 78.0, 18.5, 75.0]),\n",
       " DenseVector([24.0, 4.0, 96.0, 13.5, 75.0]),\n",
       " DenseVector([25.0, 4.0, 71.0, 16.5, 75.0]),\n",
       " DenseVector([24.0, 4.0, 97.0, 17.0, 75.0]),\n",
       " DenseVector([18.0, 6.0, 97.0, 14.5, 75.0]),\n",
       " DenseVector([29.0, 4.0, 70.0, 14.0, 75.0]),\n",
       " DenseVector([19.0, 6.0, 90.0, 17.0, 75.0]),\n",
       " DenseVector([23.0, 4.0, 95.0, 15.0, 75.0]),\n",
       " DenseVector([23.0, 4.0, 88.0, 17.0, 75.0]),\n",
       " DenseVector([22.0, 4.0, 98.0, 14.5, 75.0]),\n",
       " DenseVector([25.0, 4.0, 115.0, 13.5, 75.0]),\n",
       " DenseVector([33.0, 4.0, 53.0, 17.5, 75.0]),\n",
       " DenseVector([28.0, 4.0, 86.0, 15.5, 76.0]),\n",
       " DenseVector([25.0, 4.0, 81.0, 16.9, 76.0]),\n",
       " DenseVector([25.0, 4.0, 92.0, 14.9, 76.0]),\n",
       " DenseVector([26.0, 4.0, 79.0, 17.7, 76.0]),\n",
       " DenseVector([27.0, 4.0, 83.0, 15.3, 76.0]),\n",
       " DenseVector([17.5, 8.0, 140.0, 13.0, 76.0]),\n",
       " DenseVector([16.0, 8.0, 150.0, 13.0, 76.0]),\n",
       " DenseVector([15.5, 8.0, 120.0, 13.9, 76.0]),\n",
       " DenseVector([14.5, 8.0, 152.0, 12.8, 76.0]),\n",
       " DenseVector([22.0, 6.0, 100.0, 15.4, 76.0]),\n",
       " DenseVector([22.0, 6.0, 105.0, 14.5, 76.0]),\n",
       " DenseVector([24.0, 6.0, 81.0, 17.6, 76.0]),\n",
       " DenseVector([22.5, 6.0, 90.0, 17.6, 76.0]),\n",
       " DenseVector([29.0, 4.0, 52.0, 22.2, 76.0]),\n",
       " DenseVector([24.5, 4.0, 60.0, 22.1, 76.0]),\n",
       " DenseVector([29.0, 4.0, 70.0, 14.2, 76.0]),\n",
       " DenseVector([33.0, 4.0, 53.0, 17.4, 76.0]),\n",
       " DenseVector([20.0, 6.0, 100.0, 17.7, 76.0]),\n",
       " DenseVector([18.0, 6.0, 78.0, 21.0, 76.0]),\n",
       " DenseVector([18.5, 6.0, 110.0, 16.2, 76.0]),\n",
       " DenseVector([17.5, 6.0, 95.0, 17.8, 76.0]),\n",
       " DenseVector([29.5, 4.0, 71.0, 12.2, 76.0]),\n",
       " DenseVector([32.0, 4.0, 70.0, 17.0, 76.0]),\n",
       " DenseVector([28.0, 4.0, 75.0, 16.4, 76.0]),\n",
       " DenseVector([26.5, 4.0, 72.0, 13.6, 76.0]),\n",
       " DenseVector([20.0, 4.0, 102.0, 15.7, 76.0]),\n",
       " DenseVector([13.0, 8.0, 150.0, 13.2, 76.0]),\n",
       " DenseVector([19.0, 4.0, 88.0, 21.9, 76.0]),\n",
       " DenseVector([19.0, 6.0, 108.0, 15.5, 76.0]),\n",
       " DenseVector([16.5, 6.0, 120.0, 16.7, 76.0]),\n",
       " DenseVector([16.5, 8.0, 180.0, 12.1, 76.0]),\n",
       " DenseVector([13.0, 8.0, 145.0, 12.0, 76.0]),\n",
       " DenseVector([13.0, 8.0, 130.0, 15.0, 76.0]),\n",
       " DenseVector([13.0, 8.0, 150.0, 14.0, 76.0]),\n",
       " DenseVector([31.5, 4.0, 68.0, 18.5, 77.0]),\n",
       " DenseVector([30.0, 4.0, 80.0, 14.8, 77.0]),\n",
       " DenseVector([36.0, 4.0, 58.0, 18.6, 77.0]),\n",
       " DenseVector([25.5, 4.0, 96.0, 15.5, 77.0]),\n",
       " DenseVector([33.5, 4.0, 70.0, 16.8, 77.0]),\n",
       " DenseVector([17.5, 8.0, 145.0, 12.5, 77.0]),\n",
       " DenseVector([17.0, 8.0, 110.0, 19.0, 77.0]),\n",
       " DenseVector([15.5, 8.0, 145.0, 13.7, 77.0]),\n",
       " DenseVector([15.0, 8.0, 130.0, 14.9, 77.0]),\n",
       " DenseVector([17.5, 6.0, 110.0, 16.4, 77.0]),\n",
       " DenseVector([20.5, 6.0, 105.0, 16.9, 77.0]),\n",
       " DenseVector([19.0, 6.0, 100.0, 17.7, 77.0]),\n",
       " DenseVector([18.5, 6.0, 98.0, 19.0, 77.0]),\n",
       " DenseVector([16.0, 8.0, 180.0, 11.1, 77.0]),\n",
       " DenseVector([15.5, 8.0, 170.0, 11.4, 77.0]),\n",
       " DenseVector([15.5, 8.0, 190.0, 12.2, 77.0]),\n",
       " DenseVector([16.0, 8.0, 149.0, 14.5, 77.0]),\n",
       " DenseVector([29.0, 4.0, 78.0, 14.5, 77.0]),\n",
       " DenseVector([24.5, 4.0, 88.0, 16.0, 77.0]),\n",
       " DenseVector([26.0, 4.0, 75.0, 18.2, 77.0]),\n",
       " DenseVector([25.5, 4.0, 89.0, 15.8, 77.0]),\n",
       " DenseVector([30.5, 4.0, 63.0, 17.0, 77.0]),\n",
       " DenseVector([33.5, 4.0, 83.0, 15.9, 77.0]),\n",
       " DenseVector([30.0, 4.0, 67.0, 16.4, 77.0]),\n",
       " DenseVector([30.5, 4.0, 78.0, 14.1, 77.0]),\n",
       " DenseVector([22.0, 6.0, 97.0, 14.5, 77.0]),\n",
       " DenseVector([21.5, 4.0, 110.0, 12.8, 77.0]),\n",
       " DenseVector([21.5, 3.0, 110.0, 13.5, 77.0]),\n",
       " DenseVector([43.1, 4.0, 48.0, 21.5, 78.0]),\n",
       " DenseVector([36.1, 4.0, 66.0, 14.4, 78.0]),\n",
       " DenseVector([32.8, 4.0, 52.0, 19.4, 78.0]),\n",
       " DenseVector([39.4, 4.0, 70.0, 18.6, 78.0]),\n",
       " DenseVector([36.1, 4.0, 60.0, 16.4, 78.0]),\n",
       " DenseVector([19.9, 8.0, 110.0, 15.5, 78.0]),\n",
       " DenseVector([19.4, 8.0, 140.0, 13.2, 78.0]),\n",
       " DenseVector([20.2, 8.0, 139.0, 12.8, 78.0]),\n",
       " DenseVector([19.2, 6.0, 105.0, 19.2, 78.0]),\n",
       " DenseVector([20.5, 6.0, 95.0, 18.2, 78.0]),\n",
       " DenseVector([20.2, 6.0, 85.0, 15.8, 78.0]),\n",
       " DenseVector([25.1, 4.0, 88.0, 15.4, 78.0]),\n",
       " DenseVector([20.5, 6.0, 100.0, 17.2, 78.0]),\n",
       " DenseVector([19.4, 6.0, 90.0, 17.2, 78.0]),\n",
       " DenseVector([20.6, 6.0, 105.0, 15.8, 78.0]),\n",
       " DenseVector([20.8, 6.0, 85.0, 16.7, 78.0]),\n",
       " DenseVector([18.6, 6.0, 110.0, 18.7, 78.0]),\n",
       " DenseVector([18.1, 6.0, 120.0, 15.1, 78.0]),\n",
       " DenseVector([19.2, 8.0, 145.0, 13.2, 78.0]),\n",
       " DenseVector([17.7, 6.0, 165.0, 13.4, 78.0]),\n",
       " DenseVector([18.1, 8.0, 139.0, 11.2, 78.0]),\n",
       " DenseVector([17.5, 8.0, 140.0, 13.7, 78.0]),\n",
       " DenseVector([30.0, 4.0, 68.0, 16.5, 78.0]),\n",
       " DenseVector([27.5, 4.0, 95.0, 14.2, 78.0]),\n",
       " DenseVector([27.2, 4.0, 97.0, 14.7, 78.0]),\n",
       " DenseVector([30.9, 4.0, 75.0, 14.5, 78.0]),\n",
       " DenseVector([21.1, 4.0, 95.0, 14.8, 78.0]),\n",
       " DenseVector([23.2, 4.0, 105.0, 16.7, 78.0]),\n",
       " DenseVector([23.8, 4.0, 85.0, 17.6, 78.0]),\n",
       " DenseVector([23.9, 4.0, 97.0, 14.9, 78.0]),\n",
       " DenseVector([20.3, 5.0, 103.0, 15.9, 78.0]),\n",
       " DenseVector([17.0, 6.0, 125.0, 13.6, 78.0]),\n",
       " DenseVector([21.6, 4.0, 115.0, 15.7, 78.0]),\n",
       " DenseVector([16.2, 6.0, 133.0, 15.8, 78.0]),\n",
       " DenseVector([31.5, 4.0, 71.0, 14.9, 78.0]),\n",
       " DenseVector([29.5, 4.0, 68.0, 16.6, 78.0]),\n",
       " DenseVector([21.5, 6.0, 115.0, 15.4, 79.0]),\n",
       " DenseVector([19.8, 6.0, 85.0, 18.2, 79.0]),\n",
       " DenseVector([22.3, 4.0, 88.0, 17.3, 79.0]),\n",
       " DenseVector([20.2, 6.0, 90.0, 18.2, 79.0]),\n",
       " DenseVector([20.6, 6.0, 110.0, 16.6, 79.0]),\n",
       " DenseVector([17.0, 8.0, 130.0, 15.4, 79.0]),\n",
       " DenseVector([17.6, 8.0, 129.0, 13.4, 79.0]),\n",
       " DenseVector([16.5, 8.0, 138.0, 13.2, 79.0]),\n",
       " DenseVector([18.2, 8.0, 135.0, 15.2, 79.0]),\n",
       " DenseVector([16.9, 8.0, 155.0, 14.9, 79.0]),\n",
       " DenseVector([15.5, 8.0, 142.0, 14.3, 79.0]),\n",
       " DenseVector([19.2, 8.0, 125.0, 15.0, 79.0]),\n",
       " DenseVector([18.5, 8.0, 150.0, 13.0, 79.0]),\n",
       " DenseVector([31.9, 4.0, 71.0, 14.0, 79.0]),\n",
       " DenseVector([34.1, 4.0, 65.0, 15.2, 79.0]),\n",
       " DenseVector([35.7, 4.0, 80.0, 14.4, 79.0]),\n",
       " DenseVector([27.4, 4.0, 80.0, 15.0, 79.0]),\n",
       " DenseVector([25.4, 5.0, 77.0, 20.1, 79.0]),\n",
       " DenseVector([23.0, 8.0, 125.0, 17.4, 79.0]),\n",
       " DenseVector([27.2, 4.0, 71.0, 24.8, 79.0]),\n",
       " DenseVector([23.9, 8.0, 90.0, 22.2, 79.0]),\n",
       " DenseVector([34.2, 4.0, 70.0, 13.2, 79.0]),\n",
       " DenseVector([34.5, 4.0, 70.0, 14.9, 79.0]),\n",
       " DenseVector([31.8, 4.0, 65.0, 19.2, 79.0]),\n",
       " DenseVector([37.3, 4.0, 69.0, 14.7, 79.0]),\n",
       " DenseVector([28.4, 4.0, 90.0, 16.0, 79.0]),\n",
       " DenseVector([28.8, 6.0, 115.0, 11.3, 79.0]),\n",
       " DenseVector([26.8, 6.0, 115.0, 12.9, 79.0]),\n",
       " DenseVector([33.5, 4.0, 90.0, 13.2, 79.0]),\n",
       " DenseVector([41.5, 4.0, 76.0, 14.7, 80.0]),\n",
       " DenseVector([38.1, 4.0, 60.0, 18.8, 80.0]),\n",
       " DenseVector([32.1, 4.0, 70.0, 15.5, 80.0]),\n",
       " DenseVector([37.2, 4.0, 65.0, 16.4, 80.0]),\n",
       " DenseVector([28.0, 4.0, 90.0, 16.5, 80.0]),\n",
       " DenseVector([26.4, 4.0, 88.0, 18.1, 80.0]),\n",
       " DenseVector([24.3, 4.0, 90.0, 20.1, 80.0]),\n",
       " DenseVector([19.1, 6.0, 90.0, 18.7, 80.0]),\n",
       " DenseVector([34.3, 4.0, 78.0, 15.8, 80.0]),\n",
       " DenseVector([29.8, 4.0, 90.0, 15.5, 80.0]),\n",
       " DenseVector([31.3, 4.0, 75.0, 17.5, 80.0]),\n",
       " DenseVector([37.0, 4.0, 92.0, 15.0, 80.0]),\n",
       " DenseVector([32.2, 4.0, 75.0, 15.2, 80.0]),\n",
       " DenseVector([46.6, 4.0, 65.0, 17.9, 80.0]),\n",
       " DenseVector([27.9, 4.0, 105.0, 14.4, 80.0]),\n",
       " DenseVector([40.8, 4.0, 65.0, 19.2, 80.0]),\n",
       " DenseVector([44.3, 4.0, 48.0, 21.7, 80.0]),\n",
       " DenseVector([43.4, 4.0, 48.0, 23.7, 80.0]),\n",
       " DenseVector([36.4, 5.0, 67.0, 19.9, 80.0]),\n",
       " DenseVector([30.0, 4.0, 67.0, 21.8, 80.0]),\n",
       " DenseVector([44.6, 4.0, 67.0, 13.8, 80.0]),\n",
       " DenseVector([40.9, 4.0, 80.0, 17.3, 80.0]),\n",
       " DenseVector([33.8, 4.0, 67.0, 18.0, 80.0]),\n",
       " DenseVector([29.8, 4.0, 62.0, 15.3, 80.0]),\n",
       " DenseVector([32.7, 6.0, 132.0, 11.4, 80.0]),\n",
       " DenseVector([23.7, 3.0, 100.0, 12.5, 80.0]),\n",
       " DenseVector([35.0, 4.0, 88.0, 15.1, 80.0]),\n",
       " DenseVector([23.6, 4.0, 80.0, 14.3, 80.0]),\n",
       " DenseVector([32.4, 4.0, 72.0, 17.0, 80.0]),\n",
       " DenseVector([27.2, 4.0, 84.0, 15.7, 81.0]),\n",
       " DenseVector([26.6, 4.0, 84.0, 16.4, 81.0]),\n",
       " DenseVector([25.8, 4.0, 92.0, 14.4, 81.0]),\n",
       " DenseVector([23.5, 6.0, 110.0, 12.6, 81.0]),\n",
       " DenseVector([30.0, 4.0, 84.0, 12.9, 81.0]),\n",
       " DenseVector([39.1, 4.0, 58.0, 16.9, 81.0]),\n",
       " DenseVector([39.0, 4.0, 64.0, 16.4, 81.0]),\n",
       " DenseVector([35.1, 4.0, 60.0, 16.1, 81.0]),\n",
       " DenseVector([32.3, 4.0, 67.0, 17.8, 81.0]),\n",
       " DenseVector([37.0, 4.0, 65.0, 19.4, 81.0]),\n",
       " DenseVector([37.7, 4.0, 62.0, 17.3, 81.0]),\n",
       " DenseVector([34.1, 4.0, 68.0, 16.0, 81.0]),\n",
       " DenseVector([34.7, 4.0, 63.0, 14.9, 81.0]),\n",
       " DenseVector([34.4, 4.0, 65.0, 16.2, 81.0]),\n",
       " DenseVector([29.9, 4.0, 65.0, 20.7, 81.0]),\n",
       " DenseVector([33.0, 4.0, 74.0, 14.2, 81.0]),\n",
       " DenseVector([34.5, 4.0, 80.0, 15.8, 81.0]),\n",
       " DenseVector([33.7, 4.0, 75.0, 14.4, 81.0]),\n",
       " DenseVector([32.4, 4.0, 75.0, 16.8, 81.0]),\n",
       " DenseVector([32.9, 4.0, 100.0, 14.8, 81.0]),\n",
       " DenseVector([31.6, 4.0, 74.0, 18.3, 81.0]),\n",
       " DenseVector([28.1, 4.0, 80.0, 20.4, 81.0]),\n",
       " DenseVector([30.7, 6.0, 76.0, 19.6, 81.0]),\n",
       " DenseVector([25.4, 6.0, 116.0, 12.6, 81.0]),\n",
       " DenseVector([24.2, 6.0, 120.0, 13.8, 81.0]),\n",
       " DenseVector([22.4, 6.0, 110.0, 15.8, 81.0]),\n",
       " DenseVector([26.6, 8.0, 105.0, 19.0, 81.0]),\n",
       " DenseVector([20.2, 6.0, 88.0, 17.1, 81.0]),\n",
       " DenseVector([17.6, 6.0, 85.0, 16.6, 81.0]),\n",
       " DenseVector([28.0, 4.0, 88.0, 19.6, 82.0]),\n",
       " DenseVector([27.0, 4.0, 88.0, 18.6, 82.0]),\n",
       " DenseVector([34.0, 4.0, 88.0, 18.0, 82.0]),\n",
       " DenseVector([31.0, 4.0, 85.0, 16.2, 82.0]),\n",
       " DenseVector([29.0, 4.0, 84.0, 16.0, 82.0]),\n",
       " DenseVector([27.0, 4.0, 90.0, 18.0, 82.0]),\n",
       " DenseVector([24.0, 4.0, 92.0, 16.4, 82.0]),\n",
       " DenseVector([23.0, 4.0, 80.0, 20.5, 82.0]),\n",
       " DenseVector([36.0, 4.0, 74.0, 15.3, 82.0]),\n",
       " DenseVector([37.0, 4.0, 68.0, 18.2, 82.0]),\n",
       " DenseVector([31.0, 4.0, 68.0, 17.6, 82.0]),\n",
       " DenseVector([38.0, 4.0, 63.0, 14.7, 82.0]),\n",
       " DenseVector([36.0, 4.0, 70.0, 17.3, 82.0]),\n",
       " DenseVector([36.0, 4.0, 88.0, 14.5, 82.0]),\n",
       " DenseVector([36.0, 4.0, 75.0, 14.5, 82.0]),\n",
       " DenseVector([34.0, 4.0, 70.0, 16.9, 82.0]),\n",
       " DenseVector([38.0, 4.0, 67.0, 15.0, 82.0]),\n",
       " DenseVector([32.0, 4.0, 67.0, 15.7, 82.0]),\n",
       " DenseVector([38.0, 4.0, 67.0, 16.2, 82.0]),\n",
       " DenseVector([25.0, 6.0, 110.0, 16.4, 82.0]),\n",
       " DenseVector([38.0, 6.0, 85.0, 17.0, 82.0]),\n",
       " DenseVector([26.0, 4.0, 92.0, 14.5, 82.0]),\n",
       " DenseVector([22.0, 6.0, 112.0, 14.7, 82.0]),\n",
       " DenseVector([32.0, 4.0, 96.0, 13.9, 82.0]),\n",
       " DenseVector([36.0, 4.0, 84.0, 13.0, 82.0]),\n",
       " DenseVector([27.0, 4.0, 90.0, 17.3, 82.0]),\n",
       " DenseVector([27.0, 4.0, 86.0, 15.6, 82.0]),\n",
       " DenseVector([44.0, 4.0, 52.0, 24.6, 82.0]),\n",
       " DenseVector([32.0, 4.0, 84.0, 11.6, 82.0]),\n",
       " DenseVector([28.0, 4.0, 79.0, 18.6, 82.0]),\n",
       " DenseVector([31.0, 4.0, 82.0, 19.4, 82.0])]"
      ]
     },
     "execution_count": 11,
     "metadata": {},
     "output_type": "execute_result"
    }
   ],
   "source": [
    "#Convert the RDD into a Dense Vector. As a part of this exercise\n",
    "# 1. Remove unwanted columns\n",
    "# 2. Change non-numeric (values=?) to numeric\n",
    "\n",
    "import math\n",
    "from pyspark.mllib.linalg import Vectors\n",
    "\n",
    "# Use default for average HP\n",
    "avgHP = sc.broadcast(80.0)\n",
    "\n",
    "def transformToNumeric(inputStr):\n",
    "    global avgHP\n",
    "    attList = inputStr.split(\",\")\n",
    "    \n",
    "    # Replace ? values with a normal value\n",
    "    hpValue = attList[3]\n",
    "    if hpValue == \"?\":\n",
    "        hpValue = avgHP.value\n",
    "        \n",
    "    # Filter out columns not wanted at this stage \n",
    "    values = Vectors.dense([float(attList[0]), float(attList[1]), hpValue, float(attList[5]), float(attList[6])])\n",
    "    \n",
    "    return values\n",
    "\n",
    "# Keep only MPG, CYLINDERS, HP, ACCELERATION and MODELYEAR\n",
    "autoVectors = dataLines.map(transformToNumeric)\n",
    "autoVectors.collect()"
   ]
  },
  {
   "cell_type": "code",
   "execution_count": 8,
   "metadata": {},
   "outputs": [
    {
     "data": {
      "text/plain": [
       "array([ 23.51457286,   5.45477387, 104.10050251,  15.56809045,\n",
       "        76.01005025])"
      ]
     },
     "execution_count": 8,
     "metadata": {},
     "output_type": "execute_result"
    }
   ],
   "source": [
    "# Perform statistical Analysis\n",
    "from pyspark.mllib.stat import Statistics\n",
    "autoStats = Statistics.colStats(autoVectors)\n",
    "autoStats.mean()\n"
   ]
  },
  {
   "cell_type": "code",
   "execution_count": 9,
   "metadata": {},
   "outputs": [
    {
     "data": {
      "text/plain": [
       "array([  61.08961077,    2.89341544, 1468.09062947,    7.60484823,\n",
       "         13.67244282])"
      ]
     },
     "execution_count": 9,
     "metadata": {},
     "output_type": "execute_result"
    }
   ],
   "source": [
    "autoStats.variance()\n"
   ]
  },
  {
   "cell_type": "code",
   "execution_count": 10,
   "metadata": {},
   "outputs": [
    {
     "data": {
      "text/plain": [
       "array([ 9.,  3., 46.,  8., 70.])"
      ]
     },
     "execution_count": 10,
     "metadata": {},
     "output_type": "execute_result"
    }
   ],
   "source": [
    "autoStats.min()\n"
   ]
  },
  {
   "cell_type": "code",
   "execution_count": 12,
   "metadata": {},
   "outputs": [
    {
     "data": {
      "text/plain": [
       "array([ 46.6,   8. , 230. ,  24.8,  82. ])"
      ]
     },
     "execution_count": 12,
     "metadata": {},
     "output_type": "execute_result"
    }
   ],
   "source": [
    "autoStats.max()\n"
   ]
  },
  {
   "cell_type": "code",
   "execution_count": 13,
   "metadata": {},
   "outputs": [
    {
     "data": {
      "text/plain": [
       "array([[ 1.        , -0.77539629, -0.77463084,  0.42028891,  0.57926713],\n",
       "       [-0.77539629,  1.        ,  0.84275215, -0.50541949, -0.3487458 ],\n",
       "       [-0.77463084,  0.84275215,  1.        , -0.68829885, -0.41559383],\n",
       "       [ 0.42028891, -0.50541949, -0.68829885,  1.        ,  0.28813695],\n",
       "       [ 0.57926713, -0.3487458 , -0.41559383,  0.28813695,  1.        ]])"
      ]
     },
     "execution_count": 13,
     "metadata": {},
     "output_type": "execute_result"
    }
   ],
   "source": [
    "\n",
    "Statistics.corr(autoVectors)\n",
    "\n"
   ]
  },
  {
   "cell_type": "code",
   "execution_count": 36,
   "metadata": {},
   "outputs": [
    {
     "name": "stdout",
     "output_type": "stream",
     "text": [
      "+-----+----------------+\n",
      "|label|        features|\n",
      "+-----+----------------+\n",
      "| 18.0|[8.0,130.0,70.0]|\n",
      "| 15.0|[8.0,165.0,70.0]|\n",
      "| 18.0|[8.0,150.0,70.0]|\n",
      "| 16.0|[8.0,150.0,70.0]|\n",
      "| 17.0|[8.0,140.0,70.0]|\n",
      "| 15.0|[8.0,198.0,70.0]|\n",
      "| 14.0|[8.0,220.0,70.0]|\n",
      "| 14.0|[8.0,215.0,70.0]|\n",
      "| 14.0|[8.0,225.0,70.0]|\n",
      "| 15.0|[8.0,190.0,70.0]|\n",
      "+-----+----------------+\n",
      "only showing top 10 rows\n",
      "\n"
     ]
    }
   ],
   "source": [
    "# Transform to a Data Frame for input to Machine Learning\n",
    "# Drop columns that are not required (low correlation)\n",
    "from pyspark.ml.feature import VectorAssembler\n",
    "from pyspark.sql import SQLContext\n",
    "sqlContext = SQLContext(sc)\n",
    "\n",
    "def transformToLabeledPoint(inStr):\n",
    "    lp = (float(inStr[0]), Vectors.dense([inStr[1], inStr[2], inStr[4]]))\n",
    "    return lp\n",
    "\n",
    "autoLp = autoVectors.map(transformToLabeledPoint)\n",
    "autoDF = sqlContext.createDataFrame(autoLp, [\"label\", \"features\"])\n",
    "autoDF.select(\"label\", \"features\").show(10)\n"
   ]
  },
  {
   "cell_type": "code",
   "execution_count": 30,
   "metadata": {},
   "outputs": [],
   "source": [
    "# Find correlations\n",
    "numFeatures = autoDF.take(1)[0].features.size\n"
   ]
  },
  {
   "cell_type": "code",
   "execution_count": 32,
   "metadata": {},
   "outputs": [
    {
     "name": "stdout",
     "output_type": "stream",
     "text": [
      "0\t-0.774631\n",
      "1\t-0.774631\n",
      "2\t-0.774631\n"
     ]
    },
    {
     "data": {
      "text/plain": [
       "361"
      ]
     },
     "execution_count": 32,
     "metadata": {},
     "output_type": "execute_result"
    }
   ],
   "source": [
    "labelRDD = autoDF.rdd.map(lambda lp: float(lp.label))\n",
    "for i in range(numFeatures):\n",
    "    featureRDD = autoDF.rdd.map(lambda lp: lp.features[1])\n",
    "    corr = Statistics.corr(labelRDD, featureRDD, 'pearson')\n",
    "    print('%d\\t%g' % (i, corr))\n",
    "    \n",
    "# Split into training and testing data\n",
    "(trainingData, testData) = autoDF.randomSplit([0.9, 0.1])\n",
    "trainingData.count()\n"
   ]
  },
  {
   "cell_type": "code",
   "execution_count": 23,
   "metadata": {},
   "outputs": [
    {
     "data": {
      "text/plain": [
       "49"
      ]
     },
     "execution_count": 23,
     "metadata": {},
     "output_type": "execute_result"
    }
   ],
   "source": [
    "testData.count()"
   ]
  },
  {
   "cell_type": "code",
   "execution_count": 38,
   "metadata": {
    "scrolled": true
   },
   "outputs": [
    {
     "ename": "IllegalArgumentException",
     "evalue": "'requirement failed: Column features must be of type struct<type:tinyint,size:int,indices:array<int>,values:array<double>> but was actually struct<type:tinyint,size:int,indices:array<int>,values:array<double>>.'",
     "output_type": "error",
     "traceback": [
      "\u001b[0;31m---------------------------------------------------------------------------\u001b[0m",
      "\u001b[0;31mPy4JJavaError\u001b[0m                             Traceback (most recent call last)",
      "\u001b[0;32m~/spark-2.4.4-bin-hadoop2.7/spark-2.4.4-bin-hadoop2.7/python/lib/pyspark.zip/pyspark/sql/utils.py\u001b[0m in \u001b[0;36mdeco\u001b[0;34m(*a, **kw)\u001b[0m\n\u001b[1;32m     62\u001b[0m         \u001b[0;32mtry\u001b[0m\u001b[0;34m:\u001b[0m\u001b[0;34m\u001b[0m\u001b[0;34m\u001b[0m\u001b[0m\n\u001b[0;32m---> 63\u001b[0;31m             \u001b[0;32mreturn\u001b[0m \u001b[0mf\u001b[0m\u001b[0;34m(\u001b[0m\u001b[0;34m*\u001b[0m\u001b[0ma\u001b[0m\u001b[0;34m,\u001b[0m \u001b[0;34m**\u001b[0m\u001b[0mkw\u001b[0m\u001b[0;34m)\u001b[0m\u001b[0;34m\u001b[0m\u001b[0;34m\u001b[0m\u001b[0m\n\u001b[0m\u001b[1;32m     64\u001b[0m         \u001b[0;32mexcept\u001b[0m \u001b[0mpy4j\u001b[0m\u001b[0;34m.\u001b[0m\u001b[0mprotocol\u001b[0m\u001b[0;34m.\u001b[0m\u001b[0mPy4JJavaError\u001b[0m \u001b[0;32mas\u001b[0m \u001b[0me\u001b[0m\u001b[0;34m:\u001b[0m\u001b[0;34m\u001b[0m\u001b[0;34m\u001b[0m\u001b[0m\n",
      "\u001b[0;32m~/spark-2.4.4-bin-hadoop2.7/spark-2.4.4-bin-hadoop2.7/python/lib/py4j-0.10.7-src.zip/py4j/protocol.py\u001b[0m in \u001b[0;36mget_return_value\u001b[0;34m(answer, gateway_client, target_id, name)\u001b[0m\n\u001b[1;32m    327\u001b[0m                     \u001b[0;34m\"An error occurred while calling {0}{1}{2}.\\n\"\u001b[0m\u001b[0;34m.\u001b[0m\u001b[0;34m\u001b[0m\u001b[0;34m\u001b[0m\u001b[0m\n\u001b[0;32m--> 328\u001b[0;31m                     format(target_id, \".\", name), value)\n\u001b[0m\u001b[1;32m    329\u001b[0m             \u001b[0;32melse\u001b[0m\u001b[0;34m:\u001b[0m\u001b[0;34m\u001b[0m\u001b[0;34m\u001b[0m\u001b[0m\n",
      "\u001b[0;31mPy4JJavaError\u001b[0m: An error occurred while calling o756.fit.\n: java.lang.IllegalArgumentException: requirement failed: Column features must be of type struct<type:tinyint,size:int,indices:array<int>,values:array<double>> but was actually struct<type:tinyint,size:int,indices:array<int>,values:array<double>>.\n\tat scala.Predef$.require(Predef.scala:224)\n\tat org.apache.spark.ml.util.SchemaUtils$.checkColumnType(SchemaUtils.scala:43)\n\tat org.apache.spark.ml.PredictorParams$class.validateAndTransformSchema(Predictor.scala:51)\n\tat org.apache.spark.ml.regression.LinearRegression.org$apache$spark$ml$regression$LinearRegressionParams$$super$validateAndTransformSchema(LinearRegression.scala:177)\n\tat org.apache.spark.ml.regression.LinearRegressionParams$class.validateAndTransformSchema(LinearRegression.scala:120)\n\tat org.apache.spark.ml.regression.LinearRegression.validateAndTransformSchema(LinearRegression.scala:177)\n\tat org.apache.spark.ml.Predictor.transformSchema(Predictor.scala:144)\n\tat org.apache.spark.ml.PipelineStage.transformSchema(Pipeline.scala:74)\n\tat org.apache.spark.ml.Predictor.fit(Predictor.scala:100)\n\tat sun.reflect.NativeMethodAccessorImpl.invoke0(Native Method)\n\tat sun.reflect.NativeMethodAccessorImpl.invoke(NativeMethodAccessorImpl.java:62)\n\tat sun.reflect.DelegatingMethodAccessorImpl.invoke(DelegatingMethodAccessorImpl.java:43)\n\tat java.lang.reflect.Method.invoke(Method.java:498)\n\tat py4j.reflection.MethodInvoker.invoke(MethodInvoker.java:244)\n\tat py4j.reflection.ReflectionEngine.invoke(ReflectionEngine.java:357)\n\tat py4j.Gateway.invoke(Gateway.java:282)\n\tat py4j.commands.AbstractCommand.invokeMethod(AbstractCommand.java:132)\n\tat py4j.commands.CallCommand.execute(CallCommand.java:79)\n\tat py4j.GatewayConnection.run(GatewayConnection.java:238)\n\tat java.lang.Thread.run(Thread.java:748)\n",
      "\nDuring handling of the above exception, another exception occurred:\n",
      "\u001b[0;31mIllegalArgumentException\u001b[0m                  Traceback (most recent call last)",
      "\u001b[0;32m<ipython-input-38-5c3607231373>\u001b[0m in \u001b[0;36m<module>\u001b[0;34m\u001b[0m\n\u001b[1;32m      2\u001b[0m \u001b[0;32mfrom\u001b[0m \u001b[0mpyspark\u001b[0m\u001b[0;34m.\u001b[0m\u001b[0mml\u001b[0m\u001b[0;34m.\u001b[0m\u001b[0mregression\u001b[0m \u001b[0;32mimport\u001b[0m \u001b[0mLinearRegression\u001b[0m\u001b[0;34m\u001b[0m\u001b[0;34m\u001b[0m\u001b[0m\n\u001b[1;32m      3\u001b[0m \u001b[0mlr\u001b[0m \u001b[0;34m=\u001b[0m \u001b[0mLinearRegression\u001b[0m\u001b[0;34m(\u001b[0m\u001b[0mlabelCol\u001b[0m\u001b[0;34m=\u001b[0m\u001b[0;34m'label'\u001b[0m\u001b[0;34m,\u001b[0m \u001b[0mfeaturesCol\u001b[0m\u001b[0;34m=\u001b[0m\u001b[0;34m'features'\u001b[0m\u001b[0;34m,\u001b[0m\u001b[0mmaxIter\u001b[0m\u001b[0;34m=\u001b[0m\u001b[0;36m10\u001b[0m\u001b[0;34m)\u001b[0m\u001b[0;34m\u001b[0m\u001b[0;34m\u001b[0m\u001b[0m\n\u001b[0;32m----> 4\u001b[0;31m \u001b[0mlrModel\u001b[0m \u001b[0;34m=\u001b[0m \u001b[0mlr\u001b[0m\u001b[0;34m.\u001b[0m\u001b[0mfit\u001b[0m\u001b[0;34m(\u001b[0m\u001b[0mtrainingData\u001b[0m\u001b[0;34m)\u001b[0m\u001b[0;34m\u001b[0m\u001b[0;34m\u001b[0m\u001b[0m\n\u001b[0m\u001b[1;32m      5\u001b[0m \u001b[0;34m\u001b[0m\u001b[0m\n\u001b[1;32m      6\u001b[0m \u001b[0mprint\u001b[0m\u001b[0;34m(\u001b[0m\u001b[0;34m\"Coefficients: \"\u001b[0m \u001b[0;34m+\u001b[0m \u001b[0mstr\u001b[0m\u001b[0;34m(\u001b[0m\u001b[0mlrModel\u001b[0m\u001b[0;34m.\u001b[0m\u001b[0mcoefficients\u001b[0m\u001b[0;34m)\u001b[0m\u001b[0;34m)\u001b[0m\u001b[0;34m\u001b[0m\u001b[0;34m\u001b[0m\u001b[0m\n",
      "\u001b[0;32m~/spark-2.4.4-bin-hadoop2.7/spark-2.4.4-bin-hadoop2.7/python/lib/pyspark.zip/pyspark/ml/base.py\u001b[0m in \u001b[0;36mfit\u001b[0;34m(self, dataset, params)\u001b[0m\n\u001b[1;32m    130\u001b[0m                 \u001b[0;32mreturn\u001b[0m \u001b[0mself\u001b[0m\u001b[0;34m.\u001b[0m\u001b[0mcopy\u001b[0m\u001b[0;34m(\u001b[0m\u001b[0mparams\u001b[0m\u001b[0;34m)\u001b[0m\u001b[0;34m.\u001b[0m\u001b[0m_fit\u001b[0m\u001b[0;34m(\u001b[0m\u001b[0mdataset\u001b[0m\u001b[0;34m)\u001b[0m\u001b[0;34m\u001b[0m\u001b[0;34m\u001b[0m\u001b[0m\n\u001b[1;32m    131\u001b[0m             \u001b[0;32melse\u001b[0m\u001b[0;34m:\u001b[0m\u001b[0;34m\u001b[0m\u001b[0;34m\u001b[0m\u001b[0m\n\u001b[0;32m--> 132\u001b[0;31m                 \u001b[0;32mreturn\u001b[0m \u001b[0mself\u001b[0m\u001b[0;34m.\u001b[0m\u001b[0m_fit\u001b[0m\u001b[0;34m(\u001b[0m\u001b[0mdataset\u001b[0m\u001b[0;34m)\u001b[0m\u001b[0;34m\u001b[0m\u001b[0;34m\u001b[0m\u001b[0m\n\u001b[0m\u001b[1;32m    133\u001b[0m         \u001b[0;32melse\u001b[0m\u001b[0;34m:\u001b[0m\u001b[0;34m\u001b[0m\u001b[0;34m\u001b[0m\u001b[0m\n\u001b[1;32m    134\u001b[0m             raise ValueError(\"Params must be either a param map or a list/tuple of param maps, \"\n",
      "\u001b[0;32m~/spark-2.4.4-bin-hadoop2.7/spark-2.4.4-bin-hadoop2.7/python/lib/pyspark.zip/pyspark/ml/wrapper.py\u001b[0m in \u001b[0;36m_fit\u001b[0;34m(self, dataset)\u001b[0m\n\u001b[1;32m    293\u001b[0m \u001b[0;34m\u001b[0m\u001b[0m\n\u001b[1;32m    294\u001b[0m     \u001b[0;32mdef\u001b[0m \u001b[0m_fit\u001b[0m\u001b[0;34m(\u001b[0m\u001b[0mself\u001b[0m\u001b[0;34m,\u001b[0m \u001b[0mdataset\u001b[0m\u001b[0;34m)\u001b[0m\u001b[0;34m:\u001b[0m\u001b[0;34m\u001b[0m\u001b[0;34m\u001b[0m\u001b[0m\n\u001b[0;32m--> 295\u001b[0;31m         \u001b[0mjava_model\u001b[0m \u001b[0;34m=\u001b[0m \u001b[0mself\u001b[0m\u001b[0;34m.\u001b[0m\u001b[0m_fit_java\u001b[0m\u001b[0;34m(\u001b[0m\u001b[0mdataset\u001b[0m\u001b[0;34m)\u001b[0m\u001b[0;34m\u001b[0m\u001b[0;34m\u001b[0m\u001b[0m\n\u001b[0m\u001b[1;32m    296\u001b[0m         \u001b[0mmodel\u001b[0m \u001b[0;34m=\u001b[0m \u001b[0mself\u001b[0m\u001b[0;34m.\u001b[0m\u001b[0m_create_model\u001b[0m\u001b[0;34m(\u001b[0m\u001b[0mjava_model\u001b[0m\u001b[0;34m)\u001b[0m\u001b[0;34m\u001b[0m\u001b[0;34m\u001b[0m\u001b[0m\n\u001b[1;32m    297\u001b[0m         \u001b[0;32mreturn\u001b[0m \u001b[0mself\u001b[0m\u001b[0;34m.\u001b[0m\u001b[0m_copyValues\u001b[0m\u001b[0;34m(\u001b[0m\u001b[0mmodel\u001b[0m\u001b[0;34m)\u001b[0m\u001b[0;34m\u001b[0m\u001b[0;34m\u001b[0m\u001b[0m\n",
      "\u001b[0;32m~/spark-2.4.4-bin-hadoop2.7/spark-2.4.4-bin-hadoop2.7/python/lib/pyspark.zip/pyspark/ml/wrapper.py\u001b[0m in \u001b[0;36m_fit_java\u001b[0;34m(self, dataset)\u001b[0m\n\u001b[1;32m    290\u001b[0m         \"\"\"\n\u001b[1;32m    291\u001b[0m         \u001b[0mself\u001b[0m\u001b[0;34m.\u001b[0m\u001b[0m_transfer_params_to_java\u001b[0m\u001b[0;34m(\u001b[0m\u001b[0;34m)\u001b[0m\u001b[0;34m\u001b[0m\u001b[0;34m\u001b[0m\u001b[0m\n\u001b[0;32m--> 292\u001b[0;31m         \u001b[0;32mreturn\u001b[0m \u001b[0mself\u001b[0m\u001b[0;34m.\u001b[0m\u001b[0m_java_obj\u001b[0m\u001b[0;34m.\u001b[0m\u001b[0mfit\u001b[0m\u001b[0;34m(\u001b[0m\u001b[0mdataset\u001b[0m\u001b[0;34m.\u001b[0m\u001b[0m_jdf\u001b[0m\u001b[0;34m)\u001b[0m\u001b[0;34m\u001b[0m\u001b[0;34m\u001b[0m\u001b[0m\n\u001b[0m\u001b[1;32m    293\u001b[0m \u001b[0;34m\u001b[0m\u001b[0m\n\u001b[1;32m    294\u001b[0m     \u001b[0;32mdef\u001b[0m \u001b[0m_fit\u001b[0m\u001b[0;34m(\u001b[0m\u001b[0mself\u001b[0m\u001b[0;34m,\u001b[0m \u001b[0mdataset\u001b[0m\u001b[0;34m)\u001b[0m\u001b[0;34m:\u001b[0m\u001b[0;34m\u001b[0m\u001b[0;34m\u001b[0m\u001b[0m\n",
      "\u001b[0;32m~/spark-2.4.4-bin-hadoop2.7/spark-2.4.4-bin-hadoop2.7/python/lib/py4j-0.10.7-src.zip/py4j/java_gateway.py\u001b[0m in \u001b[0;36m__call__\u001b[0;34m(self, *args)\u001b[0m\n\u001b[1;32m   1255\u001b[0m         \u001b[0manswer\u001b[0m \u001b[0;34m=\u001b[0m \u001b[0mself\u001b[0m\u001b[0;34m.\u001b[0m\u001b[0mgateway_client\u001b[0m\u001b[0;34m.\u001b[0m\u001b[0msend_command\u001b[0m\u001b[0;34m(\u001b[0m\u001b[0mcommand\u001b[0m\u001b[0;34m)\u001b[0m\u001b[0;34m\u001b[0m\u001b[0;34m\u001b[0m\u001b[0m\n\u001b[1;32m   1256\u001b[0m         return_value = get_return_value(\n\u001b[0;32m-> 1257\u001b[0;31m             answer, self.gateway_client, self.target_id, self.name)\n\u001b[0m\u001b[1;32m   1258\u001b[0m \u001b[0;34m\u001b[0m\u001b[0m\n\u001b[1;32m   1259\u001b[0m         \u001b[0;32mfor\u001b[0m \u001b[0mtemp_arg\u001b[0m \u001b[0;32min\u001b[0m \u001b[0mtemp_args\u001b[0m\u001b[0;34m:\u001b[0m\u001b[0;34m\u001b[0m\u001b[0;34m\u001b[0m\u001b[0m\n",
      "\u001b[0;32m~/spark-2.4.4-bin-hadoop2.7/spark-2.4.4-bin-hadoop2.7/python/lib/pyspark.zip/pyspark/sql/utils.py\u001b[0m in \u001b[0;36mdeco\u001b[0;34m(*a, **kw)\u001b[0m\n\u001b[1;32m     77\u001b[0m                 \u001b[0;32mraise\u001b[0m \u001b[0mQueryExecutionException\u001b[0m\u001b[0;34m(\u001b[0m\u001b[0ms\u001b[0m\u001b[0;34m.\u001b[0m\u001b[0msplit\u001b[0m\u001b[0;34m(\u001b[0m\u001b[0;34m': '\u001b[0m\u001b[0;34m,\u001b[0m \u001b[0;36m1\u001b[0m\u001b[0;34m)\u001b[0m\u001b[0;34m[\u001b[0m\u001b[0;36m1\u001b[0m\u001b[0;34m]\u001b[0m\u001b[0;34m,\u001b[0m \u001b[0mstackTrace\u001b[0m\u001b[0;34m)\u001b[0m\u001b[0;34m\u001b[0m\u001b[0;34m\u001b[0m\u001b[0m\n\u001b[1;32m     78\u001b[0m             \u001b[0;32mif\u001b[0m \u001b[0ms\u001b[0m\u001b[0;34m.\u001b[0m\u001b[0mstartswith\u001b[0m\u001b[0;34m(\u001b[0m\u001b[0;34m'java.lang.IllegalArgumentException: '\u001b[0m\u001b[0;34m)\u001b[0m\u001b[0;34m:\u001b[0m\u001b[0;34m\u001b[0m\u001b[0;34m\u001b[0m\u001b[0m\n\u001b[0;32m---> 79\u001b[0;31m                 \u001b[0;32mraise\u001b[0m \u001b[0mIllegalArgumentException\u001b[0m\u001b[0;34m(\u001b[0m\u001b[0ms\u001b[0m\u001b[0;34m.\u001b[0m\u001b[0msplit\u001b[0m\u001b[0;34m(\u001b[0m\u001b[0;34m': '\u001b[0m\u001b[0;34m,\u001b[0m \u001b[0;36m1\u001b[0m\u001b[0;34m)\u001b[0m\u001b[0;34m[\u001b[0m\u001b[0;36m1\u001b[0m\u001b[0;34m]\u001b[0m\u001b[0;34m,\u001b[0m \u001b[0mstackTrace\u001b[0m\u001b[0;34m)\u001b[0m\u001b[0;34m\u001b[0m\u001b[0;34m\u001b[0m\u001b[0m\n\u001b[0m\u001b[1;32m     80\u001b[0m             \u001b[0;32mraise\u001b[0m\u001b[0;34m\u001b[0m\u001b[0;34m\u001b[0m\u001b[0m\n\u001b[1;32m     81\u001b[0m     \u001b[0;32mreturn\u001b[0m \u001b[0mdeco\u001b[0m\u001b[0;34m\u001b[0m\u001b[0;34m\u001b[0m\u001b[0m\n",
      "\u001b[0;31mIllegalArgumentException\u001b[0m: 'requirement failed: Column features must be of type struct<type:tinyint,size:int,indices:array<int>,values:array<double>> but was actually struct<type:tinyint,size:int,indices:array<int>,values:array<double>>.'"
     ]
    }
   ],
   "source": [
    "# Build the model on training data\n",
    "from pyspark.ml.regression import LinearRegression\n",
    "lr = LinearRegression(labelCol='label', featuresCol='features',maxIter=10)\n",
    "lrModel = lr.fit(trainingData)\n",
    "\n",
    "print(\"Coefficients: \" + str(lrModel.coefficients))\n",
    "print(\"Intercept: \" + str(lrModel.intercept))"
   ]
  },
  {
   "cell_type": "code",
   "execution_count": null,
   "metadata": {},
   "outputs": [],
   "source": [
    "\n",
    "\n",
    "# Predict on the test data\n",
    "predictions = lrModel.transform(testData)\n",
    "predictions.select(\"predictions\", \"label\", \"features\").show()\n",
    "\n",
    "from pyspark.ml.evaluation import RegressionEvaluator"
   ]
  },
  {
   "cell_type": "code",
   "execution_count": null,
   "metadata": {},
   "outputs": [],
   "source": []
  },
  {
   "cell_type": "code",
   "execution_count": null,
   "metadata": {},
   "outputs": [],
   "source": []
  }
 ],
 "metadata": {
  "kernelspec": {
   "display_name": "Python 3",
   "language": "python",
   "name": "python3"
  },
  "language_info": {
   "codemirror_mode": {
    "name": "ipython",
    "version": 3
   },
   "file_extension": ".py",
   "mimetype": "text/x-python",
   "name": "python",
   "nbconvert_exporter": "python",
   "pygments_lexer": "ipython3",
   "version": "3.6.3"
  }
 },
 "nbformat": 4,
 "nbformat_minor": 2
}
