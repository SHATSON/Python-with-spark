{
 "cells": [
  {
   "cell_type": "code",
   "execution_count": 1,
   "metadata": {},
   "outputs": [
    {
     "data": {
      "text/plain": [
       "14"
      ]
     },
     "execution_count": 1,
     "metadata": {},
     "output_type": "execute_result"
    }
   ],
   "source": [
    "import os\n",
    "import sys\n",
    "os.chdir(\"/home/pamba/Desktop/HomeLearning/ApacheSpark/Python\")\n",
    "os.curdir\n",
    "\n",
    "\n",
    "\n",
    "if 'SPARK_HOME' not in os.environ:\n",
    "    os.environ['SPARK_HOME'] = '/home/pamba/spark-2.4.4-bin-hadoop2.7/spark-2.4.4-bin-hadoop2.7'\n",
    "    \n",
    "\n",
    "os.environ['JAVA_HOME'] = '/home/pamba/opt/jdk1.8.0_241'\n",
    "    \n",
    "# Create a variable for our root path\n",
    "SPARK_HOME = os.environ['SPARK_HOME']\n",
    "\n",
    "\n",
    "sys.path.insert(0,os.path.join(SPARK_HOME, \"python\"))\n",
    "sys.path.insert(0,os.path.join(SPARK_HOME, \"python\",\"lib\"))\n",
    "sys.path.insert(0,os.path.join(SPARK_HOME, \"python\",\"lib\",\"pyspark.zip\"))\n",
    "sys.path.insert(0,os.path.join(SPARK_HOME, \"python\",\"lib\",\"py4j-0.10.7-src.zip\"))\n",
    "\n",
    "\n",
    "from pyspark import SparkContext\n",
    "from pyspark import SparkConf\n",
    "\n",
    "\n",
    "conf=SparkConf()\n",
    "conf.set(\"spark.executor.memory\", \"1g\")\n",
    "conf.set(\"spark.cores.max\", \"2\")\n",
    "\n",
    "conf.setAppName(\"V2 Maestros\")\n",
    "\n",
    "\n",
    "sc = SparkContext('local', conf=conf)\n",
    "\n",
    "lines=sc.textFile(\"auto-data.csv\")\n",
    "lines.count()\n",
    "\n",
    "\n"
   ]
  },
  {
   "cell_type": "code",
   "execution_count": null,
   "metadata": {},
   "outputs": [],
   "source": [
    "import os\n",
    "os.chdir(\"/home/pamba/Desktop/HomeLearning/ApacheSpark/Python\")\n",
    "os.curdir\n",
    "\n",
    "# "
   ]
  }
 ],
 "metadata": {
  "kernelspec": {
   "display_name": "Python 3",
   "language": "python",
   "name": "python3"
  },
  "language_info": {
   "codemirror_mode": {
    "name": "ipython",
    "version": 3
   },
   "file_extension": ".py",
   "mimetype": "text/x-python",
   "name": "python",
   "nbconvert_exporter": "python",
   "pygments_lexer": "ipython3",
   "version": "3.6.3"
  }
 },
 "nbformat": 4,
 "nbformat_minor": 2
}
